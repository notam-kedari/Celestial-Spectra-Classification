{
 "cells": [
  {
   "cell_type": "markdown",
   "metadata": {},
   "source": [
    "# CELESTIAL STELLAR CLASSIFICATION "
   ]
  },
  {
   "cell_type": "markdown",
   "metadata": {},
   "source": [
    "# Notam Kedari - 8145461"
   ]
  },
  {
   "cell_type": "markdown",
   "metadata": {},
   "source": [
    "This notebook is regarding the classification of observations of space to be either stars, galaxies or quasars(QFO). We will carry out a cycle of data analysis including the necessary steps and buliding machine learning model to predict new data precise accuracy and better results."
   ]
  },
  {
   "cell_type": "code",
   "execution_count": 1,
   "metadata": {},
   "outputs": [],
   "source": [
    "#Importing Necessary Libraries\n",
    "import os\n",
    "import pandas as pd\n",
    "import numpy as np"
   ]
  },
  {
   "cell_type": "code",
   "execution_count": 2,
   "metadata": {},
   "outputs": [],
   "source": [
    "import warnings\n",
    "warnings.filterwarnings('ignore')"
   ]
  },
  {
   "cell_type": "markdown",
   "metadata": {},
   "source": [
    "# 1. LOADING THE DATASET"
   ]
  },
  {
   "cell_type": "markdown",
   "metadata": {},
   "source": [
    "# Data Acquisition"
   ]
  },
  {
   "cell_type": "markdown",
   "metadata": {},
   "source": [
    "We have used data from 'Sloan Digital Sky Surface' dataset which offers public data of space observations."
   ]
  },
  {
   "cell_type": "code",
   "execution_count": 3,
   "metadata": {},
   "outputs": [],
   "source": [
    "data = pd.read_csv('Dataset.csv')"
   ]
  },
  {
   "cell_type": "code",
   "execution_count": 4,
   "metadata": {},
   "outputs": [
    {
     "data": {
      "text/html": [
       "<div>\n",
       "<style scoped>\n",
       "    .dataframe tbody tr th:only-of-type {\n",
       "        vertical-align: middle;\n",
       "    }\n",
       "\n",
       "    .dataframe tbody tr th {\n",
       "        vertical-align: top;\n",
       "    }\n",
       "\n",
       "    .dataframe thead th {\n",
       "        text-align: right;\n",
       "    }\n",
       "</style>\n",
       "<table border=\"1\" class=\"dataframe\">\n",
       "  <thead>\n",
       "    <tr style=\"text-align: right;\">\n",
       "      <th></th>\n",
       "      <th>obj_ID</th>\n",
       "      <th>alpha</th>\n",
       "      <th>delta</th>\n",
       "      <th>u</th>\n",
       "      <th>g</th>\n",
       "      <th>r</th>\n",
       "      <th>i</th>\n",
       "      <th>z</th>\n",
       "      <th>run_ID</th>\n",
       "      <th>rerun_ID</th>\n",
       "      <th>cam_col</th>\n",
       "      <th>field_ID</th>\n",
       "      <th>spec_obj_ID</th>\n",
       "      <th>class</th>\n",
       "      <th>redshift</th>\n",
       "      <th>plate</th>\n",
       "      <th>MJD</th>\n",
       "      <th>fiber_ID</th>\n",
       "    </tr>\n",
       "  </thead>\n",
       "  <tbody>\n",
       "    <tr>\n",
       "      <th>0</th>\n",
       "      <td>1.237660e+18</td>\n",
       "      <td>135.689107</td>\n",
       "      <td>32.494632</td>\n",
       "      <td>23.87882</td>\n",
       "      <td>22.27530</td>\n",
       "      <td>20.39501</td>\n",
       "      <td>19.16573</td>\n",
       "      <td>18.79371</td>\n",
       "      <td>3606</td>\n",
       "      <td>301</td>\n",
       "      <td>2</td>\n",
       "      <td>79</td>\n",
       "      <td>6.543780e+18</td>\n",
       "      <td>GALAXY</td>\n",
       "      <td>0.634794</td>\n",
       "      <td>5812</td>\n",
       "      <td>56354</td>\n",
       "      <td>171</td>\n",
       "    </tr>\n",
       "    <tr>\n",
       "      <th>1</th>\n",
       "      <td>1.237660e+18</td>\n",
       "      <td>144.826101</td>\n",
       "      <td>31.274185</td>\n",
       "      <td>24.77759</td>\n",
       "      <td>22.83188</td>\n",
       "      <td>22.58444</td>\n",
       "      <td>21.16812</td>\n",
       "      <td>21.61427</td>\n",
       "      <td>4518</td>\n",
       "      <td>301</td>\n",
       "      <td>5</td>\n",
       "      <td>119</td>\n",
       "      <td>1.176010e+19</td>\n",
       "      <td>GALAXY</td>\n",
       "      <td>0.779136</td>\n",
       "      <td>10445</td>\n",
       "      <td>58158</td>\n",
       "      <td>427</td>\n",
       "    </tr>\n",
       "    <tr>\n",
       "      <th>2</th>\n",
       "      <td>1.237660e+18</td>\n",
       "      <td>142.188790</td>\n",
       "      <td>35.582444</td>\n",
       "      <td>25.26307</td>\n",
       "      <td>22.66389</td>\n",
       "      <td>20.60976</td>\n",
       "      <td>19.34857</td>\n",
       "      <td>18.94827</td>\n",
       "      <td>3606</td>\n",
       "      <td>301</td>\n",
       "      <td>2</td>\n",
       "      <td>120</td>\n",
       "      <td>5.152200e+18</td>\n",
       "      <td>GALAXY</td>\n",
       "      <td>0.644195</td>\n",
       "      <td>4576</td>\n",
       "      <td>55592</td>\n",
       "      <td>299</td>\n",
       "    </tr>\n",
       "    <tr>\n",
       "      <th>3</th>\n",
       "      <td>1.237660e+18</td>\n",
       "      <td>338.741038</td>\n",
       "      <td>-0.402828</td>\n",
       "      <td>22.13682</td>\n",
       "      <td>23.77656</td>\n",
       "      <td>21.61162</td>\n",
       "      <td>20.50454</td>\n",
       "      <td>19.25010</td>\n",
       "      <td>4192</td>\n",
       "      <td>301</td>\n",
       "      <td>3</td>\n",
       "      <td>214</td>\n",
       "      <td>1.030110e+19</td>\n",
       "      <td>GALAXY</td>\n",
       "      <td>0.932346</td>\n",
       "      <td>9149</td>\n",
       "      <td>58039</td>\n",
       "      <td>775</td>\n",
       "    </tr>\n",
       "    <tr>\n",
       "      <th>4</th>\n",
       "      <td>1.237680e+18</td>\n",
       "      <td>345.282593</td>\n",
       "      <td>21.183866</td>\n",
       "      <td>19.43718</td>\n",
       "      <td>17.58028</td>\n",
       "      <td>16.49747</td>\n",
       "      <td>15.97711</td>\n",
       "      <td>15.54461</td>\n",
       "      <td>8102</td>\n",
       "      <td>301</td>\n",
       "      <td>3</td>\n",
       "      <td>137</td>\n",
       "      <td>6.891860e+18</td>\n",
       "      <td>GALAXY</td>\n",
       "      <td>0.116123</td>\n",
       "      <td>6121</td>\n",
       "      <td>56187</td>\n",
       "      <td>842</td>\n",
       "    </tr>\n",
       "  </tbody>\n",
       "</table>\n",
       "</div>"
      ],
      "text/plain": [
       "         obj_ID       alpha      delta         u         g         r  \\\n",
       "0  1.237660e+18  135.689107  32.494632  23.87882  22.27530  20.39501   \n",
       "1  1.237660e+18  144.826101  31.274185  24.77759  22.83188  22.58444   \n",
       "2  1.237660e+18  142.188790  35.582444  25.26307  22.66389  20.60976   \n",
       "3  1.237660e+18  338.741038  -0.402828  22.13682  23.77656  21.61162   \n",
       "4  1.237680e+18  345.282593  21.183866  19.43718  17.58028  16.49747   \n",
       "\n",
       "          i         z  run_ID  rerun_ID  cam_col  field_ID   spec_obj_ID  \\\n",
       "0  19.16573  18.79371    3606       301        2        79  6.543780e+18   \n",
       "1  21.16812  21.61427    4518       301        5       119  1.176010e+19   \n",
       "2  19.34857  18.94827    3606       301        2       120  5.152200e+18   \n",
       "3  20.50454  19.25010    4192       301        3       214  1.030110e+19   \n",
       "4  15.97711  15.54461    8102       301        3       137  6.891860e+18   \n",
       "\n",
       "    class  redshift  plate    MJD  fiber_ID  \n",
       "0  GALAXY  0.634794   5812  56354       171  \n",
       "1  GALAXY  0.779136  10445  58158       427  \n",
       "2  GALAXY  0.644195   4576  55592       299  \n",
       "3  GALAXY  0.932346   9149  58039       775  \n",
       "4  GALAXY  0.116123   6121  56187       842  "
      ]
     },
     "execution_count": 4,
     "metadata": {},
     "output_type": "execute_result"
    }
   ],
   "source": [
    "#Top Entries Of the Dataset\n",
    "data.head()"
   ]
  },
  {
   "cell_type": "code",
   "execution_count": 5,
   "metadata": {},
   "outputs": [
    {
     "data": {
      "text/html": [
       "<div>\n",
       "<style scoped>\n",
       "    .dataframe tbody tr th:only-of-type {\n",
       "        vertical-align: middle;\n",
       "    }\n",
       "\n",
       "    .dataframe tbody tr th {\n",
       "        vertical-align: top;\n",
       "    }\n",
       "\n",
       "    .dataframe thead th {\n",
       "        text-align: right;\n",
       "    }\n",
       "</style>\n",
       "<table border=\"1\" class=\"dataframe\">\n",
       "  <thead>\n",
       "    <tr style=\"text-align: right;\">\n",
       "      <th></th>\n",
       "      <th>obj_ID</th>\n",
       "      <th>alpha</th>\n",
       "      <th>delta</th>\n",
       "      <th>u</th>\n",
       "      <th>g</th>\n",
       "      <th>r</th>\n",
       "      <th>i</th>\n",
       "      <th>z</th>\n",
       "      <th>run_ID</th>\n",
       "      <th>rerun_ID</th>\n",
       "      <th>cam_col</th>\n",
       "      <th>field_ID</th>\n",
       "      <th>spec_obj_ID</th>\n",
       "      <th>class</th>\n",
       "      <th>redshift</th>\n",
       "      <th>plate</th>\n",
       "      <th>MJD</th>\n",
       "      <th>fiber_ID</th>\n",
       "    </tr>\n",
       "  </thead>\n",
       "  <tbody>\n",
       "    <tr>\n",
       "      <th>99995</th>\n",
       "      <td>1.237680e+18</td>\n",
       "      <td>39.620709</td>\n",
       "      <td>-2.594074</td>\n",
       "      <td>22.16759</td>\n",
       "      <td>22.97586</td>\n",
       "      <td>21.90404</td>\n",
       "      <td>21.30548</td>\n",
       "      <td>20.73569</td>\n",
       "      <td>7778</td>\n",
       "      <td>301</td>\n",
       "      <td>2</td>\n",
       "      <td>581</td>\n",
       "      <td>1.060000e+19</td>\n",
       "      <td>GALAXY</td>\n",
       "      <td>0.000000</td>\n",
       "      <td>9374</td>\n",
       "      <td>57749</td>\n",
       "      <td>438</td>\n",
       "    </tr>\n",
       "    <tr>\n",
       "      <th>99996</th>\n",
       "      <td>1.237680e+18</td>\n",
       "      <td>29.493819</td>\n",
       "      <td>19.798874</td>\n",
       "      <td>22.69118</td>\n",
       "      <td>22.38628</td>\n",
       "      <td>20.45003</td>\n",
       "      <td>19.75759</td>\n",
       "      <td>19.41526</td>\n",
       "      <td>7917</td>\n",
       "      <td>301</td>\n",
       "      <td>1</td>\n",
       "      <td>289</td>\n",
       "      <td>8.586350e+18</td>\n",
       "      <td>GALAXY</td>\n",
       "      <td>0.404895</td>\n",
       "      <td>7626</td>\n",
       "      <td>56934</td>\n",
       "      <td>866</td>\n",
       "    </tr>\n",
       "    <tr>\n",
       "      <th>99997</th>\n",
       "      <td>1.237670e+18</td>\n",
       "      <td>224.587407</td>\n",
       "      <td>15.700707</td>\n",
       "      <td>21.16916</td>\n",
       "      <td>19.26997</td>\n",
       "      <td>18.20428</td>\n",
       "      <td>17.69034</td>\n",
       "      <td>17.35221</td>\n",
       "      <td>5314</td>\n",
       "      <td>301</td>\n",
       "      <td>4</td>\n",
       "      <td>308</td>\n",
       "      <td>3.112010e+18</td>\n",
       "      <td>GALAXY</td>\n",
       "      <td>0.143366</td>\n",
       "      <td>2764</td>\n",
       "      <td>54535</td>\n",
       "      <td>74</td>\n",
       "    </tr>\n",
       "    <tr>\n",
       "      <th>99998</th>\n",
       "      <td>1.237660e+18</td>\n",
       "      <td>212.268621</td>\n",
       "      <td>46.660365</td>\n",
       "      <td>25.35039</td>\n",
       "      <td>21.63757</td>\n",
       "      <td>19.91386</td>\n",
       "      <td>19.07254</td>\n",
       "      <td>18.62482</td>\n",
       "      <td>3650</td>\n",
       "      <td>301</td>\n",
       "      <td>4</td>\n",
       "      <td>131</td>\n",
       "      <td>7.601080e+18</td>\n",
       "      <td>GALAXY</td>\n",
       "      <td>0.455040</td>\n",
       "      <td>6751</td>\n",
       "      <td>56368</td>\n",
       "      <td>470</td>\n",
       "    </tr>\n",
       "    <tr>\n",
       "      <th>99999</th>\n",
       "      <td>1.237660e+18</td>\n",
       "      <td>196.896053</td>\n",
       "      <td>49.464643</td>\n",
       "      <td>22.62171</td>\n",
       "      <td>21.79745</td>\n",
       "      <td>20.60115</td>\n",
       "      <td>20.00959</td>\n",
       "      <td>19.28075</td>\n",
       "      <td>3650</td>\n",
       "      <td>301</td>\n",
       "      <td>4</td>\n",
       "      <td>60</td>\n",
       "      <td>8.343150e+18</td>\n",
       "      <td>GALAXY</td>\n",
       "      <td>0.542944</td>\n",
       "      <td>7410</td>\n",
       "      <td>57104</td>\n",
       "      <td>851</td>\n",
       "    </tr>\n",
       "  </tbody>\n",
       "</table>\n",
       "</div>"
      ],
      "text/plain": [
       "             obj_ID       alpha      delta         u         g         r  \\\n",
       "99995  1.237680e+18   39.620709  -2.594074  22.16759  22.97586  21.90404   \n",
       "99996  1.237680e+18   29.493819  19.798874  22.69118  22.38628  20.45003   \n",
       "99997  1.237670e+18  224.587407  15.700707  21.16916  19.26997  18.20428   \n",
       "99998  1.237660e+18  212.268621  46.660365  25.35039  21.63757  19.91386   \n",
       "99999  1.237660e+18  196.896053  49.464643  22.62171  21.79745  20.60115   \n",
       "\n",
       "              i         z  run_ID  rerun_ID  cam_col  field_ID   spec_obj_ID  \\\n",
       "99995  21.30548  20.73569    7778       301        2       581  1.060000e+19   \n",
       "99996  19.75759  19.41526    7917       301        1       289  8.586350e+18   \n",
       "99997  17.69034  17.35221    5314       301        4       308  3.112010e+18   \n",
       "99998  19.07254  18.62482    3650       301        4       131  7.601080e+18   \n",
       "99999  20.00959  19.28075    3650       301        4        60  8.343150e+18   \n",
       "\n",
       "        class  redshift  plate    MJD  fiber_ID  \n",
       "99995  GALAXY  0.000000   9374  57749       438  \n",
       "99996  GALAXY  0.404895   7626  56934       866  \n",
       "99997  GALAXY  0.143366   2764  54535        74  \n",
       "99998  GALAXY  0.455040   6751  56368       470  \n",
       "99999  GALAXY  0.542944   7410  57104       851  "
      ]
     },
     "execution_count": 5,
     "metadata": {},
     "output_type": "execute_result"
    }
   ],
   "source": [
    "#Bottom Entries of the Dataset\n",
    "data.tail()"
   ]
  },
  {
   "cell_type": "code",
   "execution_count": 6,
   "metadata": {},
   "outputs": [
    {
     "data": {
      "text/plain": [
       "(100000, 18)"
      ]
     },
     "execution_count": 6,
     "metadata": {},
     "output_type": "execute_result"
    }
   ],
   "source": [
    "#Dimensions of the Dataset\n",
    "data.shape"
   ]
  },
  {
   "cell_type": "code",
   "execution_count": 7,
   "metadata": {},
   "outputs": [
    {
     "data": {
      "text/plain": [
       "1800000"
      ]
     },
     "execution_count": 7,
     "metadata": {},
     "output_type": "execute_result"
    }
   ],
   "source": [
    "data.size"
   ]
  },
  {
   "cell_type": "markdown",
   "metadata": {},
   "source": [
    "The dataset consists of 100,000 observations. "
   ]
  },
  {
   "cell_type": "code",
   "execution_count": 8,
   "metadata": {},
   "outputs": [
    {
     "data": {
      "text/html": [
       "<div>\n",
       "<style scoped>\n",
       "    .dataframe tbody tr th:only-of-type {\n",
       "        vertical-align: middle;\n",
       "    }\n",
       "\n",
       "    .dataframe tbody tr th {\n",
       "        vertical-align: top;\n",
       "    }\n",
       "\n",
       "    .dataframe thead th {\n",
       "        text-align: right;\n",
       "    }\n",
       "</style>\n",
       "<table border=\"1\" class=\"dataframe\">\n",
       "  <thead>\n",
       "    <tr style=\"text-align: right;\">\n",
       "      <th></th>\n",
       "      <th>obj_ID</th>\n",
       "      <th>alpha</th>\n",
       "      <th>delta</th>\n",
       "      <th>u</th>\n",
       "      <th>g</th>\n",
       "      <th>r</th>\n",
       "      <th>i</th>\n",
       "      <th>z</th>\n",
       "      <th>run_ID</th>\n",
       "      <th>rerun_ID</th>\n",
       "      <th>cam_col</th>\n",
       "      <th>field_ID</th>\n",
       "      <th>spec_obj_ID</th>\n",
       "      <th>redshift</th>\n",
       "      <th>plate</th>\n",
       "      <th>MJD</th>\n",
       "      <th>fiber_ID</th>\n",
       "    </tr>\n",
       "  </thead>\n",
       "  <tbody>\n",
       "    <tr>\n",
       "      <th>count</th>\n",
       "      <td>1.000000e+05</td>\n",
       "      <td>100000.000000</td>\n",
       "      <td>100000.000000</td>\n",
       "      <td>100000.000000</td>\n",
       "      <td>100000.000000</td>\n",
       "      <td>100000.000000</td>\n",
       "      <td>100000.000000</td>\n",
       "      <td>100000.000000</td>\n",
       "      <td>100000.000000</td>\n",
       "      <td>100000.0</td>\n",
       "      <td>100000.000000</td>\n",
       "      <td>100000.000000</td>\n",
       "      <td>1.000000e+05</td>\n",
       "      <td>100000.000000</td>\n",
       "      <td>100000.000000</td>\n",
       "      <td>100000.000000</td>\n",
       "      <td>100000.000000</td>\n",
       "    </tr>\n",
       "    <tr>\n",
       "      <th>mean</th>\n",
       "      <td>1.237688e+18</td>\n",
       "      <td>177.629117</td>\n",
       "      <td>24.135305</td>\n",
       "      <td>21.980468</td>\n",
       "      <td>20.531387</td>\n",
       "      <td>19.645762</td>\n",
       "      <td>19.084854</td>\n",
       "      <td>18.668810</td>\n",
       "      <td>4481.366060</td>\n",
       "      <td>301.0</td>\n",
       "      <td>3.511610</td>\n",
       "      <td>186.130520</td>\n",
       "      <td>5.783893e+18</td>\n",
       "      <td>0.576661</td>\n",
       "      <td>5137.009660</td>\n",
       "      <td>55588.647500</td>\n",
       "      <td>449.312740</td>\n",
       "    </tr>\n",
       "    <tr>\n",
       "      <th>std</th>\n",
       "      <td>2.311624e+14</td>\n",
       "      <td>96.502241</td>\n",
       "      <td>19.644665</td>\n",
       "      <td>31.769291</td>\n",
       "      <td>31.750292</td>\n",
       "      <td>1.854760</td>\n",
       "      <td>1.757895</td>\n",
       "      <td>31.728152</td>\n",
       "      <td>1964.764593</td>\n",
       "      <td>0.0</td>\n",
       "      <td>1.586912</td>\n",
       "      <td>149.011073</td>\n",
       "      <td>3.324026e+18</td>\n",
       "      <td>0.730707</td>\n",
       "      <td>2952.303351</td>\n",
       "      <td>1808.484233</td>\n",
       "      <td>272.498404</td>\n",
       "    </tr>\n",
       "    <tr>\n",
       "      <th>min</th>\n",
       "      <td>1.237650e+18</td>\n",
       "      <td>0.005528</td>\n",
       "      <td>-18.785328</td>\n",
       "      <td>-9999.000000</td>\n",
       "      <td>-9999.000000</td>\n",
       "      <td>9.822070</td>\n",
       "      <td>9.469903</td>\n",
       "      <td>-9999.000000</td>\n",
       "      <td>109.000000</td>\n",
       "      <td>301.0</td>\n",
       "      <td>1.000000</td>\n",
       "      <td>11.000000</td>\n",
       "      <td>2.995190e+17</td>\n",
       "      <td>-0.009971</td>\n",
       "      <td>266.000000</td>\n",
       "      <td>51608.000000</td>\n",
       "      <td>1.000000</td>\n",
       "    </tr>\n",
       "    <tr>\n",
       "      <th>25%</th>\n",
       "      <td>1.237660e+18</td>\n",
       "      <td>127.518222</td>\n",
       "      <td>5.146771</td>\n",
       "      <td>20.352353</td>\n",
       "      <td>18.965230</td>\n",
       "      <td>18.135828</td>\n",
       "      <td>17.732285</td>\n",
       "      <td>17.460677</td>\n",
       "      <td>3187.000000</td>\n",
       "      <td>301.0</td>\n",
       "      <td>2.000000</td>\n",
       "      <td>82.000000</td>\n",
       "      <td>2.844140e+18</td>\n",
       "      <td>0.054517</td>\n",
       "      <td>2526.000000</td>\n",
       "      <td>54234.000000</td>\n",
       "      <td>221.000000</td>\n",
       "    </tr>\n",
       "    <tr>\n",
       "      <th>50%</th>\n",
       "      <td>1.237660e+18</td>\n",
       "      <td>180.900700</td>\n",
       "      <td>23.645922</td>\n",
       "      <td>22.179135</td>\n",
       "      <td>21.099835</td>\n",
       "      <td>20.125290</td>\n",
       "      <td>19.405145</td>\n",
       "      <td>19.004595</td>\n",
       "      <td>4188.000000</td>\n",
       "      <td>301.0</td>\n",
       "      <td>4.000000</td>\n",
       "      <td>146.000000</td>\n",
       "      <td>5.614885e+18</td>\n",
       "      <td>0.424173</td>\n",
       "      <td>4987.000000</td>\n",
       "      <td>55868.500000</td>\n",
       "      <td>433.000000</td>\n",
       "    </tr>\n",
       "    <tr>\n",
       "      <th>75%</th>\n",
       "      <td>1.237670e+18</td>\n",
       "      <td>233.895005</td>\n",
       "      <td>39.901550</td>\n",
       "      <td>23.687440</td>\n",
       "      <td>22.123767</td>\n",
       "      <td>21.044785</td>\n",
       "      <td>20.396495</td>\n",
       "      <td>19.921120</td>\n",
       "      <td>5326.000000</td>\n",
       "      <td>301.0</td>\n",
       "      <td>5.000000</td>\n",
       "      <td>241.000000</td>\n",
       "      <td>8.332142e+18</td>\n",
       "      <td>0.704154</td>\n",
       "      <td>7400.250000</td>\n",
       "      <td>56777.000000</td>\n",
       "      <td>645.000000</td>\n",
       "    </tr>\n",
       "    <tr>\n",
       "      <th>max</th>\n",
       "      <td>1.240000e+18</td>\n",
       "      <td>359.999810</td>\n",
       "      <td>83.000519</td>\n",
       "      <td>32.781390</td>\n",
       "      <td>31.602240</td>\n",
       "      <td>29.571860</td>\n",
       "      <td>32.141470</td>\n",
       "      <td>29.383740</td>\n",
       "      <td>8162.000000</td>\n",
       "      <td>301.0</td>\n",
       "      <td>6.000000</td>\n",
       "      <td>989.000000</td>\n",
       "      <td>1.412690e+19</td>\n",
       "      <td>7.011245</td>\n",
       "      <td>12547.000000</td>\n",
       "      <td>58932.000000</td>\n",
       "      <td>1000.000000</td>\n",
       "    </tr>\n",
       "  </tbody>\n",
       "</table>\n",
       "</div>"
      ],
      "text/plain": [
       "             obj_ID          alpha          delta              u  \\\n",
       "count  1.000000e+05  100000.000000  100000.000000  100000.000000   \n",
       "mean   1.237688e+18     177.629117      24.135305      21.980468   \n",
       "std    2.311624e+14      96.502241      19.644665      31.769291   \n",
       "min    1.237650e+18       0.005528     -18.785328   -9999.000000   \n",
       "25%    1.237660e+18     127.518222       5.146771      20.352353   \n",
       "50%    1.237660e+18     180.900700      23.645922      22.179135   \n",
       "75%    1.237670e+18     233.895005      39.901550      23.687440   \n",
       "max    1.240000e+18     359.999810      83.000519      32.781390   \n",
       "\n",
       "                   g              r              i              z  \\\n",
       "count  100000.000000  100000.000000  100000.000000  100000.000000   \n",
       "mean       20.531387      19.645762      19.084854      18.668810   \n",
       "std        31.750292       1.854760       1.757895      31.728152   \n",
       "min     -9999.000000       9.822070       9.469903   -9999.000000   \n",
       "25%        18.965230      18.135828      17.732285      17.460677   \n",
       "50%        21.099835      20.125290      19.405145      19.004595   \n",
       "75%        22.123767      21.044785      20.396495      19.921120   \n",
       "max        31.602240      29.571860      32.141470      29.383740   \n",
       "\n",
       "              run_ID  rerun_ID        cam_col       field_ID   spec_obj_ID  \\\n",
       "count  100000.000000  100000.0  100000.000000  100000.000000  1.000000e+05   \n",
       "mean     4481.366060     301.0       3.511610     186.130520  5.783893e+18   \n",
       "std      1964.764593       0.0       1.586912     149.011073  3.324026e+18   \n",
       "min       109.000000     301.0       1.000000      11.000000  2.995190e+17   \n",
       "25%      3187.000000     301.0       2.000000      82.000000  2.844140e+18   \n",
       "50%      4188.000000     301.0       4.000000     146.000000  5.614885e+18   \n",
       "75%      5326.000000     301.0       5.000000     241.000000  8.332142e+18   \n",
       "max      8162.000000     301.0       6.000000     989.000000  1.412690e+19   \n",
       "\n",
       "            redshift          plate            MJD       fiber_ID  \n",
       "count  100000.000000  100000.000000  100000.000000  100000.000000  \n",
       "mean        0.576661    5137.009660   55588.647500     449.312740  \n",
       "std         0.730707    2952.303351    1808.484233     272.498404  \n",
       "min        -0.009971     266.000000   51608.000000       1.000000  \n",
       "25%         0.054517    2526.000000   54234.000000     221.000000  \n",
       "50%         0.424173    4987.000000   55868.500000     433.000000  \n",
       "75%         0.704154    7400.250000   56777.000000     645.000000  \n",
       "max         7.011245   12547.000000   58932.000000    1000.000000  "
      ]
     },
     "execution_count": 8,
     "metadata": {},
     "output_type": "execute_result"
    }
   ],
   "source": [
    "data.describe()"
   ]
  },
  {
   "cell_type": "code",
   "execution_count": 9,
   "metadata": {},
   "outputs": [
    {
     "data": {
      "text/plain": [
       "Index(['obj_ID', 'alpha', 'delta', 'u', 'g', 'r', 'i', 'z', 'run_ID',\n",
       "       'rerun_ID', 'cam_col', 'field_ID', 'spec_obj_ID', 'class', 'redshift',\n",
       "       'plate', 'MJD', 'fiber_ID'],\n",
       "      dtype='object')"
      ]
     },
     "execution_count": 9,
     "metadata": {},
     "output_type": "execute_result"
    }
   ],
   "source": [
    "data.columns"
   ]
  },
  {
   "cell_type": "markdown",
   "metadata": {},
   "source": [
    "Every data point is described by 17 feature columns and 1 class column which identifies it to be either a star, galaxy, or quasar(QFO).\n"
   ]
  },
  {
   "cell_type": "markdown",
   "metadata": {},
   "source": [
    "# Data Preprocessing and Exploratory Data Analysis"
   ]
  },
  {
   "cell_type": "code",
   "execution_count": 10,
   "metadata": {},
   "outputs": [],
   "source": [
    "kn = data.dropna()"
   ]
  },
  {
   "cell_type": "code",
   "execution_count": 11,
   "metadata": {},
   "outputs": [],
   "source": [
    "kn = kn.drop_duplicates()"
   ]
  },
  {
   "cell_type": "code",
   "execution_count": 12,
   "metadata": {},
   "outputs": [
    {
     "data": {
      "text/plain": [
       "(100000, 18)"
      ]
     },
     "execution_count": 12,
     "metadata": {},
     "output_type": "execute_result"
    }
   ],
   "source": [
    "kn.shape"
   ]
  },
  {
   "cell_type": "code",
   "execution_count": 13,
   "metadata": {},
   "outputs": [
    {
     "data": {
      "text/html": [
       "<div>\n",
       "<style scoped>\n",
       "    .dataframe tbody tr th:only-of-type {\n",
       "        vertical-align: middle;\n",
       "    }\n",
       "\n",
       "    .dataframe tbody tr th {\n",
       "        vertical-align: top;\n",
       "    }\n",
       "\n",
       "    .dataframe thead th {\n",
       "        text-align: right;\n",
       "    }\n",
       "</style>\n",
       "<table border=\"1\" class=\"dataframe\">\n",
       "  <thead>\n",
       "    <tr style=\"text-align: right;\">\n",
       "      <th></th>\n",
       "      <th>obj_ID</th>\n",
       "      <th>alpha</th>\n",
       "      <th>delta</th>\n",
       "      <th>u</th>\n",
       "      <th>g</th>\n",
       "      <th>r</th>\n",
       "      <th>i</th>\n",
       "      <th>z</th>\n",
       "      <th>run_ID</th>\n",
       "      <th>rerun_ID</th>\n",
       "      <th>cam_col</th>\n",
       "      <th>field_ID</th>\n",
       "      <th>spec_obj_ID</th>\n",
       "      <th>class</th>\n",
       "      <th>redshift</th>\n",
       "      <th>plate</th>\n",
       "      <th>MJD</th>\n",
       "      <th>fiber_ID</th>\n",
       "    </tr>\n",
       "  </thead>\n",
       "  <tbody>\n",
       "    <tr>\n",
       "      <th>0</th>\n",
       "      <td>False</td>\n",
       "      <td>False</td>\n",
       "      <td>False</td>\n",
       "      <td>False</td>\n",
       "      <td>False</td>\n",
       "      <td>False</td>\n",
       "      <td>False</td>\n",
       "      <td>False</td>\n",
       "      <td>False</td>\n",
       "      <td>False</td>\n",
       "      <td>False</td>\n",
       "      <td>False</td>\n",
       "      <td>False</td>\n",
       "      <td>False</td>\n",
       "      <td>False</td>\n",
       "      <td>False</td>\n",
       "      <td>False</td>\n",
       "      <td>False</td>\n",
       "    </tr>\n",
       "    <tr>\n",
       "      <th>1</th>\n",
       "      <td>False</td>\n",
       "      <td>False</td>\n",
       "      <td>False</td>\n",
       "      <td>False</td>\n",
       "      <td>False</td>\n",
       "      <td>False</td>\n",
       "      <td>False</td>\n",
       "      <td>False</td>\n",
       "      <td>False</td>\n",
       "      <td>False</td>\n",
       "      <td>False</td>\n",
       "      <td>False</td>\n",
       "      <td>False</td>\n",
       "      <td>False</td>\n",
       "      <td>False</td>\n",
       "      <td>False</td>\n",
       "      <td>False</td>\n",
       "      <td>False</td>\n",
       "    </tr>\n",
       "    <tr>\n",
       "      <th>2</th>\n",
       "      <td>False</td>\n",
       "      <td>False</td>\n",
       "      <td>False</td>\n",
       "      <td>False</td>\n",
       "      <td>False</td>\n",
       "      <td>False</td>\n",
       "      <td>False</td>\n",
       "      <td>False</td>\n",
       "      <td>False</td>\n",
       "      <td>False</td>\n",
       "      <td>False</td>\n",
       "      <td>False</td>\n",
       "      <td>False</td>\n",
       "      <td>False</td>\n",
       "      <td>False</td>\n",
       "      <td>False</td>\n",
       "      <td>False</td>\n",
       "      <td>False</td>\n",
       "    </tr>\n",
       "    <tr>\n",
       "      <th>3</th>\n",
       "      <td>False</td>\n",
       "      <td>False</td>\n",
       "      <td>False</td>\n",
       "      <td>False</td>\n",
       "      <td>False</td>\n",
       "      <td>False</td>\n",
       "      <td>False</td>\n",
       "      <td>False</td>\n",
       "      <td>False</td>\n",
       "      <td>False</td>\n",
       "      <td>False</td>\n",
       "      <td>False</td>\n",
       "      <td>False</td>\n",
       "      <td>False</td>\n",
       "      <td>False</td>\n",
       "      <td>False</td>\n",
       "      <td>False</td>\n",
       "      <td>False</td>\n",
       "    </tr>\n",
       "    <tr>\n",
       "      <th>4</th>\n",
       "      <td>False</td>\n",
       "      <td>False</td>\n",
       "      <td>False</td>\n",
       "      <td>False</td>\n",
       "      <td>False</td>\n",
       "      <td>False</td>\n",
       "      <td>False</td>\n",
       "      <td>False</td>\n",
       "      <td>False</td>\n",
       "      <td>False</td>\n",
       "      <td>False</td>\n",
       "      <td>False</td>\n",
       "      <td>False</td>\n",
       "      <td>False</td>\n",
       "      <td>False</td>\n",
       "      <td>False</td>\n",
       "      <td>False</td>\n",
       "      <td>False</td>\n",
       "    </tr>\n",
       "    <tr>\n",
       "      <th>...</th>\n",
       "      <td>...</td>\n",
       "      <td>...</td>\n",
       "      <td>...</td>\n",
       "      <td>...</td>\n",
       "      <td>...</td>\n",
       "      <td>...</td>\n",
       "      <td>...</td>\n",
       "      <td>...</td>\n",
       "      <td>...</td>\n",
       "      <td>...</td>\n",
       "      <td>...</td>\n",
       "      <td>...</td>\n",
       "      <td>...</td>\n",
       "      <td>...</td>\n",
       "      <td>...</td>\n",
       "      <td>...</td>\n",
       "      <td>...</td>\n",
       "      <td>...</td>\n",
       "    </tr>\n",
       "    <tr>\n",
       "      <th>99995</th>\n",
       "      <td>False</td>\n",
       "      <td>False</td>\n",
       "      <td>False</td>\n",
       "      <td>False</td>\n",
       "      <td>False</td>\n",
       "      <td>False</td>\n",
       "      <td>False</td>\n",
       "      <td>False</td>\n",
       "      <td>False</td>\n",
       "      <td>False</td>\n",
       "      <td>False</td>\n",
       "      <td>False</td>\n",
       "      <td>False</td>\n",
       "      <td>False</td>\n",
       "      <td>False</td>\n",
       "      <td>False</td>\n",
       "      <td>False</td>\n",
       "      <td>False</td>\n",
       "    </tr>\n",
       "    <tr>\n",
       "      <th>99996</th>\n",
       "      <td>False</td>\n",
       "      <td>False</td>\n",
       "      <td>False</td>\n",
       "      <td>False</td>\n",
       "      <td>False</td>\n",
       "      <td>False</td>\n",
       "      <td>False</td>\n",
       "      <td>False</td>\n",
       "      <td>False</td>\n",
       "      <td>False</td>\n",
       "      <td>False</td>\n",
       "      <td>False</td>\n",
       "      <td>False</td>\n",
       "      <td>False</td>\n",
       "      <td>False</td>\n",
       "      <td>False</td>\n",
       "      <td>False</td>\n",
       "      <td>False</td>\n",
       "    </tr>\n",
       "    <tr>\n",
       "      <th>99997</th>\n",
       "      <td>False</td>\n",
       "      <td>False</td>\n",
       "      <td>False</td>\n",
       "      <td>False</td>\n",
       "      <td>False</td>\n",
       "      <td>False</td>\n",
       "      <td>False</td>\n",
       "      <td>False</td>\n",
       "      <td>False</td>\n",
       "      <td>False</td>\n",
       "      <td>False</td>\n",
       "      <td>False</td>\n",
       "      <td>False</td>\n",
       "      <td>False</td>\n",
       "      <td>False</td>\n",
       "      <td>False</td>\n",
       "      <td>False</td>\n",
       "      <td>False</td>\n",
       "    </tr>\n",
       "    <tr>\n",
       "      <th>99998</th>\n",
       "      <td>False</td>\n",
       "      <td>False</td>\n",
       "      <td>False</td>\n",
       "      <td>False</td>\n",
       "      <td>False</td>\n",
       "      <td>False</td>\n",
       "      <td>False</td>\n",
       "      <td>False</td>\n",
       "      <td>False</td>\n",
       "      <td>False</td>\n",
       "      <td>False</td>\n",
       "      <td>False</td>\n",
       "      <td>False</td>\n",
       "      <td>False</td>\n",
       "      <td>False</td>\n",
       "      <td>False</td>\n",
       "      <td>False</td>\n",
       "      <td>False</td>\n",
       "    </tr>\n",
       "    <tr>\n",
       "      <th>99999</th>\n",
       "      <td>False</td>\n",
       "      <td>False</td>\n",
       "      <td>False</td>\n",
       "      <td>False</td>\n",
       "      <td>False</td>\n",
       "      <td>False</td>\n",
       "      <td>False</td>\n",
       "      <td>False</td>\n",
       "      <td>False</td>\n",
       "      <td>False</td>\n",
       "      <td>False</td>\n",
       "      <td>False</td>\n",
       "      <td>False</td>\n",
       "      <td>False</td>\n",
       "      <td>False</td>\n",
       "      <td>False</td>\n",
       "      <td>False</td>\n",
       "      <td>False</td>\n",
       "    </tr>\n",
       "  </tbody>\n",
       "</table>\n",
       "<p>100000 rows × 18 columns</p>\n",
       "</div>"
      ],
      "text/plain": [
       "       obj_ID  alpha  delta      u      g      r      i      z  run_ID  \\\n",
       "0       False  False  False  False  False  False  False  False   False   \n",
       "1       False  False  False  False  False  False  False  False   False   \n",
       "2       False  False  False  False  False  False  False  False   False   \n",
       "3       False  False  False  False  False  False  False  False   False   \n",
       "4       False  False  False  False  False  False  False  False   False   \n",
       "...       ...    ...    ...    ...    ...    ...    ...    ...     ...   \n",
       "99995   False  False  False  False  False  False  False  False   False   \n",
       "99996   False  False  False  False  False  False  False  False   False   \n",
       "99997   False  False  False  False  False  False  False  False   False   \n",
       "99998   False  False  False  False  False  False  False  False   False   \n",
       "99999   False  False  False  False  False  False  False  False   False   \n",
       "\n",
       "       rerun_ID  cam_col  field_ID  spec_obj_ID  class  redshift  plate  \\\n",
       "0         False    False     False        False  False     False  False   \n",
       "1         False    False     False        False  False     False  False   \n",
       "2         False    False     False        False  False     False  False   \n",
       "3         False    False     False        False  False     False  False   \n",
       "4         False    False     False        False  False     False  False   \n",
       "...         ...      ...       ...          ...    ...       ...    ...   \n",
       "99995     False    False     False        False  False     False  False   \n",
       "99996     False    False     False        False  False     False  False   \n",
       "99997     False    False     False        False  False     False  False   \n",
       "99998     False    False     False        False  False     False  False   \n",
       "99999     False    False     False        False  False     False  False   \n",
       "\n",
       "         MJD  fiber_ID  \n",
       "0      False     False  \n",
       "1      False     False  \n",
       "2      False     False  \n",
       "3      False     False  \n",
       "4      False     False  \n",
       "...      ...       ...  \n",
       "99995  False     False  \n",
       "99996  False     False  \n",
       "99997  False     False  \n",
       "99998  False     False  \n",
       "99999  False     False  \n",
       "\n",
       "[100000 rows x 18 columns]"
      ]
     },
     "execution_count": 13,
     "metadata": {},
     "output_type": "execute_result"
    }
   ],
   "source": [
    "kn.isnull()"
   ]
  },
  {
   "cell_type": "code",
   "execution_count": 14,
   "metadata": {},
   "outputs": [
    {
     "data": {
      "text/plain": [
       "obj_ID         0\n",
       "alpha          0\n",
       "delta          0\n",
       "u              0\n",
       "g              0\n",
       "r              0\n",
       "i              0\n",
       "z              0\n",
       "run_ID         0\n",
       "rerun_ID       0\n",
       "cam_col        0\n",
       "field_ID       0\n",
       "spec_obj_ID    0\n",
       "class          0\n",
       "redshift       0\n",
       "plate          0\n",
       "MJD            0\n",
       "fiber_ID       0\n",
       "dtype: int64"
      ]
     },
     "execution_count": 14,
     "metadata": {},
     "output_type": "execute_result"
    }
   ],
   "source": [
    "kn.isnull().sum()"
   ]
  },
  {
   "cell_type": "code",
   "execution_count": 15,
   "metadata": {},
   "outputs": [
    {
     "name": "stdout",
     "output_type": "stream",
     "text": [
      "<class 'pandas.core.frame.DataFrame'>\n",
      "Int64Index: 100000 entries, 0 to 99999\n",
      "Data columns (total 18 columns):\n",
      " #   Column       Non-Null Count   Dtype  \n",
      "---  ------       --------------   -----  \n",
      " 0   obj_ID       100000 non-null  float64\n",
      " 1   alpha        100000 non-null  float64\n",
      " 2   delta        100000 non-null  float64\n",
      " 3   u            100000 non-null  float64\n",
      " 4   g            100000 non-null  float64\n",
      " 5   r            100000 non-null  float64\n",
      " 6   i            100000 non-null  float64\n",
      " 7   z            100000 non-null  float64\n",
      " 8   run_ID       100000 non-null  int64  \n",
      " 9   rerun_ID     100000 non-null  int64  \n",
      " 10  cam_col      100000 non-null  int64  \n",
      " 11  field_ID     100000 non-null  int64  \n",
      " 12  spec_obj_ID  100000 non-null  float64\n",
      " 13  class        100000 non-null  object \n",
      " 14  redshift     100000 non-null  float64\n",
      " 15  plate        100000 non-null  int64  \n",
      " 16  MJD          100000 non-null  int64  \n",
      " 17  fiber_ID     100000 non-null  int64  \n",
      "dtypes: float64(10), int64(7), object(1)\n",
      "memory usage: 14.5+ MB\n"
     ]
    }
   ],
   "source": [
    "kn.info()"
   ]
  },
  {
   "cell_type": "code",
   "execution_count": 16,
   "metadata": {},
   "outputs": [],
   "source": [
    "#Renaming the feature labels for Better Representation\n",
    "kn = kn.rename({'u':'UltraVioletFilter','g':'GreenFilter','r':'RedFilter','i':'NearInfraFilter','z':'InfraFilter'},axis=1)"
   ]
  },
  {
   "cell_type": "markdown",
   "metadata": {},
   "source": [
    "The above attributes refer to the different optical filters at different wavelengths which are used to capture the observations."
   ]
  },
  {
   "cell_type": "code",
   "execution_count": 17,
   "metadata": {},
   "outputs": [
    {
     "name": "stdout",
     "output_type": "stream",
     "text": [
      "<class 'pandas.core.frame.DataFrame'>\n",
      "Int64Index: 100000 entries, 0 to 99999\n",
      "Data columns (total 18 columns):\n",
      " #   Column             Non-Null Count   Dtype  \n",
      "---  ------             --------------   -----  \n",
      " 0   obj_ID             100000 non-null  float64\n",
      " 1   alpha              100000 non-null  float64\n",
      " 2   delta              100000 non-null  float64\n",
      " 3   UltraVioletFilter  100000 non-null  float64\n",
      " 4   GreenFilter        100000 non-null  float64\n",
      " 5   RedFilter          100000 non-null  float64\n",
      " 6   NearInfraFilter    100000 non-null  float64\n",
      " 7   InfraFilter        100000 non-null  float64\n",
      " 8   run_ID             100000 non-null  int64  \n",
      " 9   rerun_ID           100000 non-null  int64  \n",
      " 10  cam_col            100000 non-null  int64  \n",
      " 11  field_ID           100000 non-null  int64  \n",
      " 12  spec_obj_ID        100000 non-null  float64\n",
      " 13  class              100000 non-null  object \n",
      " 14  redshift           100000 non-null  float64\n",
      " 15  plate              100000 non-null  int64  \n",
      " 16  MJD                100000 non-null  int64  \n",
      " 17  fiber_ID           100000 non-null  int64  \n",
      "dtypes: float64(10), int64(7), object(1)\n",
      "memory usage: 14.5+ MB\n"
     ]
    }
   ],
   "source": [
    "kn.info()"
   ]
  },
  {
   "cell_type": "code",
   "execution_count": 18,
   "metadata": {},
   "outputs": [
    {
     "data": {
      "text/plain": [
       "array([135.6891066, 144.8261006, 142.1887896, ..., 224.5874074,\n",
       "       212.2686211, 196.896053 ])"
      ]
     },
     "execution_count": 18,
     "metadata": {},
     "output_type": "execute_result"
    }
   ],
   "source": [
    "kn['alpha'].unique()"
   ]
  },
  {
   "cell_type": "code",
   "execution_count": 19,
   "metadata": {},
   "outputs": [
    {
     "data": {
      "text/plain": [
       "array([32.49463184, 31.27418489, 35.58244418, ..., 15.70070739,\n",
       "       46.66036528, 49.46464277])"
      ]
     },
     "execution_count": 19,
     "metadata": {},
     "output_type": "execute_result"
    }
   ],
   "source": [
    "kn['delta'].unique()"
   ]
  },
  {
   "cell_type": "code",
   "execution_count": 20,
   "metadata": {},
   "outputs": [
    {
     "data": {
      "text/html": [
       "<div>\n",
       "<style scoped>\n",
       "    .dataframe tbody tr th:only-of-type {\n",
       "        vertical-align: middle;\n",
       "    }\n",
       "\n",
       "    .dataframe tbody tr th {\n",
       "        vertical-align: top;\n",
       "    }\n",
       "\n",
       "    .dataframe thead th {\n",
       "        text-align: right;\n",
       "    }\n",
       "</style>\n",
       "<table border=\"1\" class=\"dataframe\">\n",
       "  <thead>\n",
       "    <tr style=\"text-align: right;\">\n",
       "      <th></th>\n",
       "      <th>obj_ID</th>\n",
       "      <th>alpha</th>\n",
       "      <th>delta</th>\n",
       "      <th>UltraVioletFilter</th>\n",
       "      <th>GreenFilter</th>\n",
       "      <th>RedFilter</th>\n",
       "      <th>NearInfraFilter</th>\n",
       "      <th>InfraFilter</th>\n",
       "      <th>run_ID</th>\n",
       "      <th>rerun_ID</th>\n",
       "      <th>cam_col</th>\n",
       "      <th>field_ID</th>\n",
       "      <th>spec_obj_ID</th>\n",
       "      <th>class</th>\n",
       "      <th>redshift</th>\n",
       "      <th>plate</th>\n",
       "      <th>MJD</th>\n",
       "      <th>fiber_ID</th>\n",
       "    </tr>\n",
       "  </thead>\n",
       "  <tbody>\n",
       "    <tr>\n",
       "      <th>0</th>\n",
       "      <td>1.237660e+18</td>\n",
       "      <td>135.689107</td>\n",
       "      <td>32.494632</td>\n",
       "      <td>23.87882</td>\n",
       "      <td>22.27530</td>\n",
       "      <td>20.39501</td>\n",
       "      <td>19.16573</td>\n",
       "      <td>18.79371</td>\n",
       "      <td>3606</td>\n",
       "      <td>301</td>\n",
       "      <td>2</td>\n",
       "      <td>79</td>\n",
       "      <td>6.543780e+18</td>\n",
       "      <td>GALAXY</td>\n",
       "      <td>0.634794</td>\n",
       "      <td>5812</td>\n",
       "      <td>56354</td>\n",
       "      <td>171</td>\n",
       "    </tr>\n",
       "    <tr>\n",
       "      <th>1</th>\n",
       "      <td>1.237660e+18</td>\n",
       "      <td>144.826101</td>\n",
       "      <td>31.274185</td>\n",
       "      <td>24.77759</td>\n",
       "      <td>22.83188</td>\n",
       "      <td>22.58444</td>\n",
       "      <td>21.16812</td>\n",
       "      <td>21.61427</td>\n",
       "      <td>4518</td>\n",
       "      <td>301</td>\n",
       "      <td>5</td>\n",
       "      <td>119</td>\n",
       "      <td>1.176010e+19</td>\n",
       "      <td>GALAXY</td>\n",
       "      <td>0.779136</td>\n",
       "      <td>10445</td>\n",
       "      <td>58158</td>\n",
       "      <td>427</td>\n",
       "    </tr>\n",
       "    <tr>\n",
       "      <th>2</th>\n",
       "      <td>1.237660e+18</td>\n",
       "      <td>142.188790</td>\n",
       "      <td>35.582444</td>\n",
       "      <td>25.26307</td>\n",
       "      <td>22.66389</td>\n",
       "      <td>20.60976</td>\n",
       "      <td>19.34857</td>\n",
       "      <td>18.94827</td>\n",
       "      <td>3606</td>\n",
       "      <td>301</td>\n",
       "      <td>2</td>\n",
       "      <td>120</td>\n",
       "      <td>5.152200e+18</td>\n",
       "      <td>GALAXY</td>\n",
       "      <td>0.644195</td>\n",
       "      <td>4576</td>\n",
       "      <td>55592</td>\n",
       "      <td>299</td>\n",
       "    </tr>\n",
       "    <tr>\n",
       "      <th>3</th>\n",
       "      <td>1.237660e+18</td>\n",
       "      <td>338.741038</td>\n",
       "      <td>-0.402828</td>\n",
       "      <td>22.13682</td>\n",
       "      <td>23.77656</td>\n",
       "      <td>21.61162</td>\n",
       "      <td>20.50454</td>\n",
       "      <td>19.25010</td>\n",
       "      <td>4192</td>\n",
       "      <td>301</td>\n",
       "      <td>3</td>\n",
       "      <td>214</td>\n",
       "      <td>1.030110e+19</td>\n",
       "      <td>GALAXY</td>\n",
       "      <td>0.932346</td>\n",
       "      <td>9149</td>\n",
       "      <td>58039</td>\n",
       "      <td>775</td>\n",
       "    </tr>\n",
       "    <tr>\n",
       "      <th>4</th>\n",
       "      <td>1.237680e+18</td>\n",
       "      <td>345.282593</td>\n",
       "      <td>21.183866</td>\n",
       "      <td>19.43718</td>\n",
       "      <td>17.58028</td>\n",
       "      <td>16.49747</td>\n",
       "      <td>15.97711</td>\n",
       "      <td>15.54461</td>\n",
       "      <td>8102</td>\n",
       "      <td>301</td>\n",
       "      <td>3</td>\n",
       "      <td>137</td>\n",
       "      <td>6.891860e+18</td>\n",
       "      <td>GALAXY</td>\n",
       "      <td>0.116123</td>\n",
       "      <td>6121</td>\n",
       "      <td>56187</td>\n",
       "      <td>842</td>\n",
       "    </tr>\n",
       "    <tr>\n",
       "      <th>5</th>\n",
       "      <td>1.237680e+18</td>\n",
       "      <td>340.995120</td>\n",
       "      <td>20.589476</td>\n",
       "      <td>23.48827</td>\n",
       "      <td>23.33776</td>\n",
       "      <td>21.32195</td>\n",
       "      <td>20.25615</td>\n",
       "      <td>19.54544</td>\n",
       "      <td>8102</td>\n",
       "      <td>301</td>\n",
       "      <td>3</td>\n",
       "      <td>110</td>\n",
       "      <td>5.658980e+18</td>\n",
       "      <td>QSO</td>\n",
       "      <td>1.424659</td>\n",
       "      <td>5026</td>\n",
       "      <td>55855</td>\n",
       "      <td>741</td>\n",
       "    </tr>\n",
       "    <tr>\n",
       "      <th>6</th>\n",
       "      <td>1.237680e+18</td>\n",
       "      <td>23.234926</td>\n",
       "      <td>11.418188</td>\n",
       "      <td>21.46973</td>\n",
       "      <td>21.17624</td>\n",
       "      <td>20.92829</td>\n",
       "      <td>20.60826</td>\n",
       "      <td>20.42573</td>\n",
       "      <td>7773</td>\n",
       "      <td>301</td>\n",
       "      <td>2</td>\n",
       "      <td>462</td>\n",
       "      <td>1.250000e+19</td>\n",
       "      <td>QSO</td>\n",
       "      <td>0.586455</td>\n",
       "      <td>11069</td>\n",
       "      <td>58456</td>\n",
       "      <td>113</td>\n",
       "    </tr>\n",
       "    <tr>\n",
       "      <th>7</th>\n",
       "      <td>1.237680e+18</td>\n",
       "      <td>5.433176</td>\n",
       "      <td>12.065186</td>\n",
       "      <td>22.24979</td>\n",
       "      <td>22.02172</td>\n",
       "      <td>20.34126</td>\n",
       "      <td>19.48794</td>\n",
       "      <td>18.84999</td>\n",
       "      <td>7773</td>\n",
       "      <td>301</td>\n",
       "      <td>2</td>\n",
       "      <td>346</td>\n",
       "      <td>6.961440e+18</td>\n",
       "      <td>GALAXY</td>\n",
       "      <td>0.477009</td>\n",
       "      <td>6183</td>\n",
       "      <td>56210</td>\n",
       "      <td>15</td>\n",
       "    </tr>\n",
       "    <tr>\n",
       "      <th>8</th>\n",
       "      <td>1.237660e+18</td>\n",
       "      <td>200.290475</td>\n",
       "      <td>47.199402</td>\n",
       "      <td>24.40286</td>\n",
       "      <td>22.35669</td>\n",
       "      <td>20.61032</td>\n",
       "      <td>19.46490</td>\n",
       "      <td>18.95852</td>\n",
       "      <td>3716</td>\n",
       "      <td>301</td>\n",
       "      <td>5</td>\n",
       "      <td>108</td>\n",
       "      <td>7.459280e+18</td>\n",
       "      <td>GALAXY</td>\n",
       "      <td>0.660012</td>\n",
       "      <td>6625</td>\n",
       "      <td>56386</td>\n",
       "      <td>719</td>\n",
       "    </tr>\n",
       "    <tr>\n",
       "      <th>9</th>\n",
       "      <td>1.237670e+18</td>\n",
       "      <td>39.149691</td>\n",
       "      <td>28.102842</td>\n",
       "      <td>21.74669</td>\n",
       "      <td>20.03493</td>\n",
       "      <td>19.17553</td>\n",
       "      <td>18.81823</td>\n",
       "      <td>18.65422</td>\n",
       "      <td>5934</td>\n",
       "      <td>301</td>\n",
       "      <td>4</td>\n",
       "      <td>122</td>\n",
       "      <td>2.751760e+18</td>\n",
       "      <td>STAR</td>\n",
       "      <td>-0.000008</td>\n",
       "      <td>2444</td>\n",
       "      <td>54082</td>\n",
       "      <td>232</td>\n",
       "    </tr>\n",
       "  </tbody>\n",
       "</table>\n",
       "</div>"
      ],
      "text/plain": [
       "         obj_ID       alpha      delta  UltraVioletFilter  GreenFilter  \\\n",
       "0  1.237660e+18  135.689107  32.494632           23.87882     22.27530   \n",
       "1  1.237660e+18  144.826101  31.274185           24.77759     22.83188   \n",
       "2  1.237660e+18  142.188790  35.582444           25.26307     22.66389   \n",
       "3  1.237660e+18  338.741038  -0.402828           22.13682     23.77656   \n",
       "4  1.237680e+18  345.282593  21.183866           19.43718     17.58028   \n",
       "5  1.237680e+18  340.995120  20.589476           23.48827     23.33776   \n",
       "6  1.237680e+18   23.234926  11.418188           21.46973     21.17624   \n",
       "7  1.237680e+18    5.433176  12.065186           22.24979     22.02172   \n",
       "8  1.237660e+18  200.290475  47.199402           24.40286     22.35669   \n",
       "9  1.237670e+18   39.149691  28.102842           21.74669     20.03493   \n",
       "\n",
       "   RedFilter  NearInfraFilter  InfraFilter  run_ID  rerun_ID  cam_col  \\\n",
       "0   20.39501         19.16573     18.79371    3606       301        2   \n",
       "1   22.58444         21.16812     21.61427    4518       301        5   \n",
       "2   20.60976         19.34857     18.94827    3606       301        2   \n",
       "3   21.61162         20.50454     19.25010    4192       301        3   \n",
       "4   16.49747         15.97711     15.54461    8102       301        3   \n",
       "5   21.32195         20.25615     19.54544    8102       301        3   \n",
       "6   20.92829         20.60826     20.42573    7773       301        2   \n",
       "7   20.34126         19.48794     18.84999    7773       301        2   \n",
       "8   20.61032         19.46490     18.95852    3716       301        5   \n",
       "9   19.17553         18.81823     18.65422    5934       301        4   \n",
       "\n",
       "   field_ID   spec_obj_ID   class  redshift  plate    MJD  fiber_ID  \n",
       "0        79  6.543780e+18  GALAXY  0.634794   5812  56354       171  \n",
       "1       119  1.176010e+19  GALAXY  0.779136  10445  58158       427  \n",
       "2       120  5.152200e+18  GALAXY  0.644195   4576  55592       299  \n",
       "3       214  1.030110e+19  GALAXY  0.932346   9149  58039       775  \n",
       "4       137  6.891860e+18  GALAXY  0.116123   6121  56187       842  \n",
       "5       110  5.658980e+18     QSO  1.424659   5026  55855       741  \n",
       "6       462  1.250000e+19     QSO  0.586455  11069  58456       113  \n",
       "7       346  6.961440e+18  GALAXY  0.477009   6183  56210        15  \n",
       "8       108  7.459280e+18  GALAXY  0.660012   6625  56386       719  \n",
       "9       122  2.751760e+18    STAR -0.000008   2444  54082       232  "
      ]
     },
     "execution_count": 20,
     "metadata": {},
     "output_type": "execute_result"
    }
   ],
   "source": [
    "kn.head(10)"
   ]
  },
  {
   "cell_type": "code",
   "execution_count": 21,
   "metadata": {},
   "outputs": [
    {
     "data": {
      "text/html": [
       "<div>\n",
       "<style scoped>\n",
       "    .dataframe tbody tr th:only-of-type {\n",
       "        vertical-align: middle;\n",
       "    }\n",
       "\n",
       "    .dataframe tbody tr th {\n",
       "        vertical-align: top;\n",
       "    }\n",
       "\n",
       "    .dataframe thead th {\n",
       "        text-align: right;\n",
       "    }\n",
       "</style>\n",
       "<table border=\"1\" class=\"dataframe\">\n",
       "  <thead>\n",
       "    <tr style=\"text-align: right;\">\n",
       "      <th></th>\n",
       "      <th>obj_ID</th>\n",
       "      <th>alpha</th>\n",
       "      <th>delta</th>\n",
       "      <th>UltraVioletFilter</th>\n",
       "      <th>GreenFilter</th>\n",
       "      <th>RedFilter</th>\n",
       "      <th>NearInfraFilter</th>\n",
       "      <th>InfraFilter</th>\n",
       "      <th>run_ID</th>\n",
       "      <th>rerun_ID</th>\n",
       "      <th>cam_col</th>\n",
       "      <th>field_ID</th>\n",
       "      <th>spec_obj_ID</th>\n",
       "      <th>class</th>\n",
       "      <th>redshift</th>\n",
       "      <th>plate</th>\n",
       "      <th>MJD</th>\n",
       "      <th>fiber_ID</th>\n",
       "    </tr>\n",
       "  </thead>\n",
       "  <tbody>\n",
       "    <tr>\n",
       "      <th>99990</th>\n",
       "      <td>1.237670e+18</td>\n",
       "      <td>143.414774</td>\n",
       "      <td>26.731108</td>\n",
       "      <td>23.79655</td>\n",
       "      <td>22.41332</td>\n",
       "      <td>20.36012</td>\n",
       "      <td>19.33964</td>\n",
       "      <td>18.74413</td>\n",
       "      <td>4569</td>\n",
       "      <td>301</td>\n",
       "      <td>1</td>\n",
       "      <td>213</td>\n",
       "      <td>6.525780e+18</td>\n",
       "      <td>GALAXY</td>\n",
       "      <td>0.555789</td>\n",
       "      <td>5796</td>\n",
       "      <td>56274</td>\n",
       "      <td>247</td>\n",
       "    </tr>\n",
       "    <tr>\n",
       "      <th>99991</th>\n",
       "      <td>1.237670e+18</td>\n",
       "      <td>146.898055</td>\n",
       "      <td>27.818094</td>\n",
       "      <td>26.22899</td>\n",
       "      <td>21.84820</td>\n",
       "      <td>20.47138</td>\n",
       "      <td>19.60049</td>\n",
       "      <td>18.94726</td>\n",
       "      <td>4569</td>\n",
       "      <td>301</td>\n",
       "      <td>1</td>\n",
       "      <td>234</td>\n",
       "      <td>6.523610e+18</td>\n",
       "      <td>GALAXY</td>\n",
       "      <td>0.550025</td>\n",
       "      <td>5794</td>\n",
       "      <td>56282</td>\n",
       "      <td>535</td>\n",
       "    </tr>\n",
       "    <tr>\n",
       "      <th>99992</th>\n",
       "      <td>1.237670e+18</td>\n",
       "      <td>129.862762</td>\n",
       "      <td>14.574312</td>\n",
       "      <td>25.82234</td>\n",
       "      <td>24.02722</td>\n",
       "      <td>21.43137</td>\n",
       "      <td>20.13085</td>\n",
       "      <td>19.66464</td>\n",
       "      <td>5137</td>\n",
       "      <td>301</td>\n",
       "      <td>3</td>\n",
       "      <td>111</td>\n",
       "      <td>5.066770e+18</td>\n",
       "      <td>GALAXY</td>\n",
       "      <td>0.587944</td>\n",
       "      <td>4500</td>\n",
       "      <td>55543</td>\n",
       "      <td>819</td>\n",
       "    </tr>\n",
       "    <tr>\n",
       "      <th>99993</th>\n",
       "      <td>1.237650e+18</td>\n",
       "      <td>0.740551</td>\n",
       "      <td>-9.184243</td>\n",
       "      <td>23.13172</td>\n",
       "      <td>23.18506</td>\n",
       "      <td>21.52854</td>\n",
       "      <td>20.26975</td>\n",
       "      <td>20.11383</td>\n",
       "      <td>1740</td>\n",
       "      <td>301</td>\n",
       "      <td>5</td>\n",
       "      <td>27</td>\n",
       "      <td>8.069570e+18</td>\n",
       "      <td>GALAXY</td>\n",
       "      <td>0.617036</td>\n",
       "      <td>7167</td>\n",
       "      <td>56604</td>\n",
       "      <td>889</td>\n",
       "    </tr>\n",
       "    <tr>\n",
       "      <th>99994</th>\n",
       "      <td>1.237660e+18</td>\n",
       "      <td>317.246996</td>\n",
       "      <td>-0.682254</td>\n",
       "      <td>20.96526</td>\n",
       "      <td>19.81625</td>\n",
       "      <td>19.34186</td>\n",
       "      <td>19.14711</td>\n",
       "      <td>19.05790</td>\n",
       "      <td>4187</td>\n",
       "      <td>301</td>\n",
       "      <td>2</td>\n",
       "      <td>64</td>\n",
       "      <td>1.154060e+18</td>\n",
       "      <td>GALAXY</td>\n",
       "      <td>0.175206</td>\n",
       "      <td>1025</td>\n",
       "      <td>53239</td>\n",
       "      <td>51</td>\n",
       "    </tr>\n",
       "    <tr>\n",
       "      <th>99995</th>\n",
       "      <td>1.237680e+18</td>\n",
       "      <td>39.620709</td>\n",
       "      <td>-2.594074</td>\n",
       "      <td>22.16759</td>\n",
       "      <td>22.97586</td>\n",
       "      <td>21.90404</td>\n",
       "      <td>21.30548</td>\n",
       "      <td>20.73569</td>\n",
       "      <td>7778</td>\n",
       "      <td>301</td>\n",
       "      <td>2</td>\n",
       "      <td>581</td>\n",
       "      <td>1.060000e+19</td>\n",
       "      <td>GALAXY</td>\n",
       "      <td>0.000000</td>\n",
       "      <td>9374</td>\n",
       "      <td>57749</td>\n",
       "      <td>438</td>\n",
       "    </tr>\n",
       "    <tr>\n",
       "      <th>99996</th>\n",
       "      <td>1.237680e+18</td>\n",
       "      <td>29.493819</td>\n",
       "      <td>19.798874</td>\n",
       "      <td>22.69118</td>\n",
       "      <td>22.38628</td>\n",
       "      <td>20.45003</td>\n",
       "      <td>19.75759</td>\n",
       "      <td>19.41526</td>\n",
       "      <td>7917</td>\n",
       "      <td>301</td>\n",
       "      <td>1</td>\n",
       "      <td>289</td>\n",
       "      <td>8.586350e+18</td>\n",
       "      <td>GALAXY</td>\n",
       "      <td>0.404895</td>\n",
       "      <td>7626</td>\n",
       "      <td>56934</td>\n",
       "      <td>866</td>\n",
       "    </tr>\n",
       "    <tr>\n",
       "      <th>99997</th>\n",
       "      <td>1.237670e+18</td>\n",
       "      <td>224.587407</td>\n",
       "      <td>15.700707</td>\n",
       "      <td>21.16916</td>\n",
       "      <td>19.26997</td>\n",
       "      <td>18.20428</td>\n",
       "      <td>17.69034</td>\n",
       "      <td>17.35221</td>\n",
       "      <td>5314</td>\n",
       "      <td>301</td>\n",
       "      <td>4</td>\n",
       "      <td>308</td>\n",
       "      <td>3.112010e+18</td>\n",
       "      <td>GALAXY</td>\n",
       "      <td>0.143366</td>\n",
       "      <td>2764</td>\n",
       "      <td>54535</td>\n",
       "      <td>74</td>\n",
       "    </tr>\n",
       "    <tr>\n",
       "      <th>99998</th>\n",
       "      <td>1.237660e+18</td>\n",
       "      <td>212.268621</td>\n",
       "      <td>46.660365</td>\n",
       "      <td>25.35039</td>\n",
       "      <td>21.63757</td>\n",
       "      <td>19.91386</td>\n",
       "      <td>19.07254</td>\n",
       "      <td>18.62482</td>\n",
       "      <td>3650</td>\n",
       "      <td>301</td>\n",
       "      <td>4</td>\n",
       "      <td>131</td>\n",
       "      <td>7.601080e+18</td>\n",
       "      <td>GALAXY</td>\n",
       "      <td>0.455040</td>\n",
       "      <td>6751</td>\n",
       "      <td>56368</td>\n",
       "      <td>470</td>\n",
       "    </tr>\n",
       "    <tr>\n",
       "      <th>99999</th>\n",
       "      <td>1.237660e+18</td>\n",
       "      <td>196.896053</td>\n",
       "      <td>49.464643</td>\n",
       "      <td>22.62171</td>\n",
       "      <td>21.79745</td>\n",
       "      <td>20.60115</td>\n",
       "      <td>20.00959</td>\n",
       "      <td>19.28075</td>\n",
       "      <td>3650</td>\n",
       "      <td>301</td>\n",
       "      <td>4</td>\n",
       "      <td>60</td>\n",
       "      <td>8.343150e+18</td>\n",
       "      <td>GALAXY</td>\n",
       "      <td>0.542944</td>\n",
       "      <td>7410</td>\n",
       "      <td>57104</td>\n",
       "      <td>851</td>\n",
       "    </tr>\n",
       "  </tbody>\n",
       "</table>\n",
       "</div>"
      ],
      "text/plain": [
       "             obj_ID       alpha      delta  UltraVioletFilter  GreenFilter  \\\n",
       "99990  1.237670e+18  143.414774  26.731108           23.79655     22.41332   \n",
       "99991  1.237670e+18  146.898055  27.818094           26.22899     21.84820   \n",
       "99992  1.237670e+18  129.862762  14.574312           25.82234     24.02722   \n",
       "99993  1.237650e+18    0.740551  -9.184243           23.13172     23.18506   \n",
       "99994  1.237660e+18  317.246996  -0.682254           20.96526     19.81625   \n",
       "99995  1.237680e+18   39.620709  -2.594074           22.16759     22.97586   \n",
       "99996  1.237680e+18   29.493819  19.798874           22.69118     22.38628   \n",
       "99997  1.237670e+18  224.587407  15.700707           21.16916     19.26997   \n",
       "99998  1.237660e+18  212.268621  46.660365           25.35039     21.63757   \n",
       "99999  1.237660e+18  196.896053  49.464643           22.62171     21.79745   \n",
       "\n",
       "       RedFilter  NearInfraFilter  InfraFilter  run_ID  rerun_ID  cam_col  \\\n",
       "99990   20.36012         19.33964     18.74413    4569       301        1   \n",
       "99991   20.47138         19.60049     18.94726    4569       301        1   \n",
       "99992   21.43137         20.13085     19.66464    5137       301        3   \n",
       "99993   21.52854         20.26975     20.11383    1740       301        5   \n",
       "99994   19.34186         19.14711     19.05790    4187       301        2   \n",
       "99995   21.90404         21.30548     20.73569    7778       301        2   \n",
       "99996   20.45003         19.75759     19.41526    7917       301        1   \n",
       "99997   18.20428         17.69034     17.35221    5314       301        4   \n",
       "99998   19.91386         19.07254     18.62482    3650       301        4   \n",
       "99999   20.60115         20.00959     19.28075    3650       301        4   \n",
       "\n",
       "       field_ID   spec_obj_ID   class  redshift  plate    MJD  fiber_ID  \n",
       "99990       213  6.525780e+18  GALAXY  0.555789   5796  56274       247  \n",
       "99991       234  6.523610e+18  GALAXY  0.550025   5794  56282       535  \n",
       "99992       111  5.066770e+18  GALAXY  0.587944   4500  55543       819  \n",
       "99993        27  8.069570e+18  GALAXY  0.617036   7167  56604       889  \n",
       "99994        64  1.154060e+18  GALAXY  0.175206   1025  53239        51  \n",
       "99995       581  1.060000e+19  GALAXY  0.000000   9374  57749       438  \n",
       "99996       289  8.586350e+18  GALAXY  0.404895   7626  56934       866  \n",
       "99997       308  3.112010e+18  GALAXY  0.143366   2764  54535        74  \n",
       "99998       131  7.601080e+18  GALAXY  0.455040   6751  56368       470  \n",
       "99999        60  8.343150e+18  GALAXY  0.542944   7410  57104       851  "
      ]
     },
     "execution_count": 21,
     "metadata": {},
     "output_type": "execute_result"
    }
   ],
   "source": [
    "kn.tail(10)"
   ]
  },
  {
   "cell_type": "markdown",
   "metadata": {},
   "source": [
    "# 2.  STATISTICAL CHARACTERESTICS OF DATASET"
   ]
  },
  {
   "cell_type": "code",
   "execution_count": 22,
   "metadata": {},
   "outputs": [
    {
     "data": {
      "text/html": [
       "<div>\n",
       "<style scoped>\n",
       "    .dataframe tbody tr th:only-of-type {\n",
       "        vertical-align: middle;\n",
       "    }\n",
       "\n",
       "    .dataframe tbody tr th {\n",
       "        vertical-align: top;\n",
       "    }\n",
       "\n",
       "    .dataframe thead th {\n",
       "        text-align: right;\n",
       "    }\n",
       "</style>\n",
       "<table border=\"1\" class=\"dataframe\">\n",
       "  <thead>\n",
       "    <tr style=\"text-align: right;\">\n",
       "      <th></th>\n",
       "      <th>obj_ID</th>\n",
       "      <th>alpha</th>\n",
       "      <th>delta</th>\n",
       "      <th>UltraVioletFilter</th>\n",
       "      <th>GreenFilter</th>\n",
       "      <th>RedFilter</th>\n",
       "      <th>NearInfraFilter</th>\n",
       "      <th>InfraFilter</th>\n",
       "      <th>run_ID</th>\n",
       "      <th>rerun_ID</th>\n",
       "      <th>cam_col</th>\n",
       "      <th>field_ID</th>\n",
       "      <th>spec_obj_ID</th>\n",
       "      <th>redshift</th>\n",
       "      <th>plate</th>\n",
       "      <th>MJD</th>\n",
       "      <th>fiber_ID</th>\n",
       "    </tr>\n",
       "  </thead>\n",
       "  <tbody>\n",
       "    <tr>\n",
       "      <th>count</th>\n",
       "      <td>1.000000e+05</td>\n",
       "      <td>100000.000000</td>\n",
       "      <td>100000.000000</td>\n",
       "      <td>100000.000000</td>\n",
       "      <td>100000.000000</td>\n",
       "      <td>100000.000000</td>\n",
       "      <td>100000.000000</td>\n",
       "      <td>100000.000000</td>\n",
       "      <td>100000.000000</td>\n",
       "      <td>100000.0</td>\n",
       "      <td>100000.000000</td>\n",
       "      <td>100000.000000</td>\n",
       "      <td>1.000000e+05</td>\n",
       "      <td>100000.000000</td>\n",
       "      <td>100000.000000</td>\n",
       "      <td>100000.000000</td>\n",
       "      <td>100000.000000</td>\n",
       "    </tr>\n",
       "    <tr>\n",
       "      <th>mean</th>\n",
       "      <td>1.237688e+18</td>\n",
       "      <td>177.629117</td>\n",
       "      <td>24.135305</td>\n",
       "      <td>21.980468</td>\n",
       "      <td>20.531387</td>\n",
       "      <td>19.645762</td>\n",
       "      <td>19.084854</td>\n",
       "      <td>18.668810</td>\n",
       "      <td>4481.366060</td>\n",
       "      <td>301.0</td>\n",
       "      <td>3.511610</td>\n",
       "      <td>186.130520</td>\n",
       "      <td>5.783893e+18</td>\n",
       "      <td>0.576661</td>\n",
       "      <td>5137.009660</td>\n",
       "      <td>55588.647500</td>\n",
       "      <td>449.312740</td>\n",
       "    </tr>\n",
       "    <tr>\n",
       "      <th>std</th>\n",
       "      <td>2.311624e+14</td>\n",
       "      <td>96.502241</td>\n",
       "      <td>19.644665</td>\n",
       "      <td>31.769291</td>\n",
       "      <td>31.750292</td>\n",
       "      <td>1.854760</td>\n",
       "      <td>1.757895</td>\n",
       "      <td>31.728152</td>\n",
       "      <td>1964.764593</td>\n",
       "      <td>0.0</td>\n",
       "      <td>1.586912</td>\n",
       "      <td>149.011073</td>\n",
       "      <td>3.324026e+18</td>\n",
       "      <td>0.730707</td>\n",
       "      <td>2952.303351</td>\n",
       "      <td>1808.484233</td>\n",
       "      <td>272.498404</td>\n",
       "    </tr>\n",
       "    <tr>\n",
       "      <th>min</th>\n",
       "      <td>1.237650e+18</td>\n",
       "      <td>0.005528</td>\n",
       "      <td>-18.785328</td>\n",
       "      <td>-9999.000000</td>\n",
       "      <td>-9999.000000</td>\n",
       "      <td>9.822070</td>\n",
       "      <td>9.469903</td>\n",
       "      <td>-9999.000000</td>\n",
       "      <td>109.000000</td>\n",
       "      <td>301.0</td>\n",
       "      <td>1.000000</td>\n",
       "      <td>11.000000</td>\n",
       "      <td>2.995190e+17</td>\n",
       "      <td>-0.009971</td>\n",
       "      <td>266.000000</td>\n",
       "      <td>51608.000000</td>\n",
       "      <td>1.000000</td>\n",
       "    </tr>\n",
       "    <tr>\n",
       "      <th>25%</th>\n",
       "      <td>1.237660e+18</td>\n",
       "      <td>127.518222</td>\n",
       "      <td>5.146771</td>\n",
       "      <td>20.352353</td>\n",
       "      <td>18.965230</td>\n",
       "      <td>18.135828</td>\n",
       "      <td>17.732285</td>\n",
       "      <td>17.460677</td>\n",
       "      <td>3187.000000</td>\n",
       "      <td>301.0</td>\n",
       "      <td>2.000000</td>\n",
       "      <td>82.000000</td>\n",
       "      <td>2.844140e+18</td>\n",
       "      <td>0.054517</td>\n",
       "      <td>2526.000000</td>\n",
       "      <td>54234.000000</td>\n",
       "      <td>221.000000</td>\n",
       "    </tr>\n",
       "    <tr>\n",
       "      <th>50%</th>\n",
       "      <td>1.237660e+18</td>\n",
       "      <td>180.900700</td>\n",
       "      <td>23.645922</td>\n",
       "      <td>22.179135</td>\n",
       "      <td>21.099835</td>\n",
       "      <td>20.125290</td>\n",
       "      <td>19.405145</td>\n",
       "      <td>19.004595</td>\n",
       "      <td>4188.000000</td>\n",
       "      <td>301.0</td>\n",
       "      <td>4.000000</td>\n",
       "      <td>146.000000</td>\n",
       "      <td>5.614885e+18</td>\n",
       "      <td>0.424173</td>\n",
       "      <td>4987.000000</td>\n",
       "      <td>55868.500000</td>\n",
       "      <td>433.000000</td>\n",
       "    </tr>\n",
       "    <tr>\n",
       "      <th>75%</th>\n",
       "      <td>1.237670e+18</td>\n",
       "      <td>233.895005</td>\n",
       "      <td>39.901550</td>\n",
       "      <td>23.687440</td>\n",
       "      <td>22.123767</td>\n",
       "      <td>21.044785</td>\n",
       "      <td>20.396495</td>\n",
       "      <td>19.921120</td>\n",
       "      <td>5326.000000</td>\n",
       "      <td>301.0</td>\n",
       "      <td>5.000000</td>\n",
       "      <td>241.000000</td>\n",
       "      <td>8.332142e+18</td>\n",
       "      <td>0.704154</td>\n",
       "      <td>7400.250000</td>\n",
       "      <td>56777.000000</td>\n",
       "      <td>645.000000</td>\n",
       "    </tr>\n",
       "    <tr>\n",
       "      <th>max</th>\n",
       "      <td>1.240000e+18</td>\n",
       "      <td>359.999810</td>\n",
       "      <td>83.000519</td>\n",
       "      <td>32.781390</td>\n",
       "      <td>31.602240</td>\n",
       "      <td>29.571860</td>\n",
       "      <td>32.141470</td>\n",
       "      <td>29.383740</td>\n",
       "      <td>8162.000000</td>\n",
       "      <td>301.0</td>\n",
       "      <td>6.000000</td>\n",
       "      <td>989.000000</td>\n",
       "      <td>1.412690e+19</td>\n",
       "      <td>7.011245</td>\n",
       "      <td>12547.000000</td>\n",
       "      <td>58932.000000</td>\n",
       "      <td>1000.000000</td>\n",
       "    </tr>\n",
       "  </tbody>\n",
       "</table>\n",
       "</div>"
      ],
      "text/plain": [
       "             obj_ID          alpha          delta  UltraVioletFilter  \\\n",
       "count  1.000000e+05  100000.000000  100000.000000      100000.000000   \n",
       "mean   1.237688e+18     177.629117      24.135305          21.980468   \n",
       "std    2.311624e+14      96.502241      19.644665          31.769291   \n",
       "min    1.237650e+18       0.005528     -18.785328       -9999.000000   \n",
       "25%    1.237660e+18     127.518222       5.146771          20.352353   \n",
       "50%    1.237660e+18     180.900700      23.645922          22.179135   \n",
       "75%    1.237670e+18     233.895005      39.901550          23.687440   \n",
       "max    1.240000e+18     359.999810      83.000519          32.781390   \n",
       "\n",
       "         GreenFilter      RedFilter  NearInfraFilter    InfraFilter  \\\n",
       "count  100000.000000  100000.000000    100000.000000  100000.000000   \n",
       "mean       20.531387      19.645762        19.084854      18.668810   \n",
       "std        31.750292       1.854760         1.757895      31.728152   \n",
       "min     -9999.000000       9.822070         9.469903   -9999.000000   \n",
       "25%        18.965230      18.135828        17.732285      17.460677   \n",
       "50%        21.099835      20.125290        19.405145      19.004595   \n",
       "75%        22.123767      21.044785        20.396495      19.921120   \n",
       "max        31.602240      29.571860        32.141470      29.383740   \n",
       "\n",
       "              run_ID  rerun_ID        cam_col       field_ID   spec_obj_ID  \\\n",
       "count  100000.000000  100000.0  100000.000000  100000.000000  1.000000e+05   \n",
       "mean     4481.366060     301.0       3.511610     186.130520  5.783893e+18   \n",
       "std      1964.764593       0.0       1.586912     149.011073  3.324026e+18   \n",
       "min       109.000000     301.0       1.000000      11.000000  2.995190e+17   \n",
       "25%      3187.000000     301.0       2.000000      82.000000  2.844140e+18   \n",
       "50%      4188.000000     301.0       4.000000     146.000000  5.614885e+18   \n",
       "75%      5326.000000     301.0       5.000000     241.000000  8.332142e+18   \n",
       "max      8162.000000     301.0       6.000000     989.000000  1.412690e+19   \n",
       "\n",
       "            redshift          plate            MJD       fiber_ID  \n",
       "count  100000.000000  100000.000000  100000.000000  100000.000000  \n",
       "mean        0.576661    5137.009660   55588.647500     449.312740  \n",
       "std         0.730707    2952.303351    1808.484233     272.498404  \n",
       "min        -0.009971     266.000000   51608.000000       1.000000  \n",
       "25%         0.054517    2526.000000   54234.000000     221.000000  \n",
       "50%         0.424173    4987.000000   55868.500000     433.000000  \n",
       "75%         0.704154    7400.250000   56777.000000     645.000000  \n",
       "max         7.011245   12547.000000   58932.000000    1000.000000  "
      ]
     },
     "execution_count": 22,
     "metadata": {},
     "output_type": "execute_result"
    }
   ],
   "source": [
    "kn.describe()"
   ]
  },
  {
   "cell_type": "code",
   "execution_count": 23,
   "metadata": {},
   "outputs": [
    {
     "data": {
      "text/plain": [
       "0"
      ]
     },
     "execution_count": 23,
     "metadata": {},
     "output_type": "execute_result"
    }
   ],
   "source": [
    "sum(kn.duplicated())"
   ]
  },
  {
   "cell_type": "code",
   "execution_count": 24,
   "metadata": {},
   "outputs": [
    {
     "data": {
      "text/html": [
       "<div>\n",
       "<style scoped>\n",
       "    .dataframe tbody tr th:only-of-type {\n",
       "        vertical-align: middle;\n",
       "    }\n",
       "\n",
       "    .dataframe tbody tr th {\n",
       "        vertical-align: top;\n",
       "    }\n",
       "\n",
       "    .dataframe thead th {\n",
       "        text-align: right;\n",
       "    }\n",
       "</style>\n",
       "<table border=\"1\" class=\"dataframe\">\n",
       "  <thead>\n",
       "    <tr style=\"text-align: right;\">\n",
       "      <th></th>\n",
       "      <th>obj_ID</th>\n",
       "      <th>alpha</th>\n",
       "      <th>delta</th>\n",
       "      <th>UltraVioletFilter</th>\n",
       "      <th>GreenFilter</th>\n",
       "      <th>RedFilter</th>\n",
       "      <th>NearInfraFilter</th>\n",
       "      <th>InfraFilter</th>\n",
       "      <th>run_ID</th>\n",
       "      <th>rerun_ID</th>\n",
       "      <th>cam_col</th>\n",
       "      <th>field_ID</th>\n",
       "      <th>spec_obj_ID</th>\n",
       "      <th>redshift</th>\n",
       "      <th>plate</th>\n",
       "      <th>MJD</th>\n",
       "      <th>fiber_ID</th>\n",
       "    </tr>\n",
       "  </thead>\n",
       "  <tbody>\n",
       "    <tr>\n",
       "      <th>obj_ID</th>\n",
       "      <td>1.000000</td>\n",
       "      <td>-0.000401</td>\n",
       "      <td>-0.013086</td>\n",
       "      <td>0.000887</td>\n",
       "      <td>0.000757</td>\n",
       "      <td>0.002709</td>\n",
       "      <td>0.003529</td>\n",
       "      <td>0.000610</td>\n",
       "      <td>0.035830</td>\n",
       "      <td>NaN</td>\n",
       "      <td>-0.005763</td>\n",
       "      <td>0.000302</td>\n",
       "      <td>0.005225</td>\n",
       "      <td>-0.004434</td>\n",
       "      <td>0.005225</td>\n",
       "      <td>0.006079</td>\n",
       "      <td>0.003208</td>\n",
       "    </tr>\n",
       "    <tr>\n",
       "      <th>alpha</th>\n",
       "      <td>-0.000401</td>\n",
       "      <td>1.000000</td>\n",
       "      <td>0.138691</td>\n",
       "      <td>-0.001532</td>\n",
       "      <td>-0.002423</td>\n",
       "      <td>-0.022083</td>\n",
       "      <td>-0.023580</td>\n",
       "      <td>-0.002918</td>\n",
       "      <td>-0.013737</td>\n",
       "      <td>NaN</td>\n",
       "      <td>0.019582</td>\n",
       "      <td>-0.165577</td>\n",
       "      <td>-0.002558</td>\n",
       "      <td>0.001667</td>\n",
       "      <td>-0.002554</td>\n",
       "      <td>0.019943</td>\n",
       "      <td>0.030464</td>\n",
       "    </tr>\n",
       "    <tr>\n",
       "      <th>delta</th>\n",
       "      <td>-0.013086</td>\n",
       "      <td>0.138691</td>\n",
       "      <td>1.000000</td>\n",
       "      <td>0.002074</td>\n",
       "      <td>0.003523</td>\n",
       "      <td>-0.006835</td>\n",
       "      <td>-0.004480</td>\n",
       "      <td>0.003630</td>\n",
       "      <td>-0.301238</td>\n",
       "      <td>NaN</td>\n",
       "      <td>0.032565</td>\n",
       "      <td>-0.173416</td>\n",
       "      <td>0.112324</td>\n",
       "      <td>0.031638</td>\n",
       "      <td>0.112329</td>\n",
       "      <td>0.107333</td>\n",
       "      <td>0.028250</td>\n",
       "    </tr>\n",
       "    <tr>\n",
       "      <th>UltraVioletFilter</th>\n",
       "      <td>0.000887</td>\n",
       "      <td>-0.001532</td>\n",
       "      <td>0.002074</td>\n",
       "      <td>1.000000</td>\n",
       "      <td>0.999311</td>\n",
       "      <td>0.054149</td>\n",
       "      <td>0.045730</td>\n",
       "      <td>0.998093</td>\n",
       "      <td>0.015309</td>\n",
       "      <td>NaN</td>\n",
       "      <td>0.003548</td>\n",
       "      <td>-0.008374</td>\n",
       "      <td>0.029997</td>\n",
       "      <td>0.014309</td>\n",
       "      <td>0.029997</td>\n",
       "      <td>0.031997</td>\n",
       "      <td>0.016305</td>\n",
       "    </tr>\n",
       "    <tr>\n",
       "      <th>GreenFilter</th>\n",
       "      <td>0.000757</td>\n",
       "      <td>-0.002423</td>\n",
       "      <td>0.003523</td>\n",
       "      <td>0.999311</td>\n",
       "      <td>1.000000</td>\n",
       "      <td>0.062387</td>\n",
       "      <td>0.056271</td>\n",
       "      <td>0.999161</td>\n",
       "      <td>0.015710</td>\n",
       "      <td>NaN</td>\n",
       "      <td>0.003508</td>\n",
       "      <td>-0.008852</td>\n",
       "      <td>0.039444</td>\n",
       "      <td>0.022954</td>\n",
       "      <td>0.039443</td>\n",
       "      <td>0.040274</td>\n",
       "      <td>0.017470</td>\n",
       "    </tr>\n",
       "    <tr>\n",
       "      <th>RedFilter</th>\n",
       "      <td>0.002709</td>\n",
       "      <td>-0.022083</td>\n",
       "      <td>-0.006835</td>\n",
       "      <td>0.054149</td>\n",
       "      <td>0.062387</td>\n",
       "      <td>1.000000</td>\n",
       "      <td>0.962868</td>\n",
       "      <td>0.053677</td>\n",
       "      <td>0.153889</td>\n",
       "      <td>NaN</td>\n",
       "      <td>0.008480</td>\n",
       "      <td>-0.026423</td>\n",
       "      <td>0.655254</td>\n",
       "      <td>0.433241</td>\n",
       "      <td>0.655243</td>\n",
       "      <td>0.671180</td>\n",
       "      <td>0.223106</td>\n",
       "    </tr>\n",
       "    <tr>\n",
       "      <th>NearInfraFilter</th>\n",
       "      <td>0.003529</td>\n",
       "      <td>-0.023580</td>\n",
       "      <td>-0.004480</td>\n",
       "      <td>0.045730</td>\n",
       "      <td>0.056271</td>\n",
       "      <td>0.962868</td>\n",
       "      <td>1.000000</td>\n",
       "      <td>0.055994</td>\n",
       "      <td>0.147668</td>\n",
       "      <td>NaN</td>\n",
       "      <td>0.007615</td>\n",
       "      <td>-0.026679</td>\n",
       "      <td>0.661651</td>\n",
       "      <td>0.492383</td>\n",
       "      <td>0.661640</td>\n",
       "      <td>0.672523</td>\n",
       "      <td>0.214787</td>\n",
       "    </tr>\n",
       "    <tr>\n",
       "      <th>InfraFilter</th>\n",
       "      <td>0.000610</td>\n",
       "      <td>-0.002918</td>\n",
       "      <td>0.003630</td>\n",
       "      <td>0.998093</td>\n",
       "      <td>0.999161</td>\n",
       "      <td>0.053677</td>\n",
       "      <td>0.055994</td>\n",
       "      <td>1.000000</td>\n",
       "      <td>0.013811</td>\n",
       "      <td>NaN</td>\n",
       "      <td>0.003365</td>\n",
       "      <td>-0.008903</td>\n",
       "      <td>0.037813</td>\n",
       "      <td>0.030380</td>\n",
       "      <td>0.037813</td>\n",
       "      <td>0.037469</td>\n",
       "      <td>0.014668</td>\n",
       "    </tr>\n",
       "    <tr>\n",
       "      <th>run_ID</th>\n",
       "      <td>0.035830</td>\n",
       "      <td>-0.013737</td>\n",
       "      <td>-0.301238</td>\n",
       "      <td>0.015309</td>\n",
       "      <td>0.015710</td>\n",
       "      <td>0.153889</td>\n",
       "      <td>0.147668</td>\n",
       "      <td>0.013811</td>\n",
       "      <td>1.000000</td>\n",
       "      <td>NaN</td>\n",
       "      <td>-0.047098</td>\n",
       "      <td>0.031498</td>\n",
       "      <td>0.239453</td>\n",
       "      <td>0.065400</td>\n",
       "      <td>0.239459</td>\n",
       "      <td>0.262687</td>\n",
       "      <td>0.067165</td>\n",
       "    </tr>\n",
       "    <tr>\n",
       "      <th>rerun_ID</th>\n",
       "      <td>NaN</td>\n",
       "      <td>NaN</td>\n",
       "      <td>NaN</td>\n",
       "      <td>NaN</td>\n",
       "      <td>NaN</td>\n",
       "      <td>NaN</td>\n",
       "      <td>NaN</td>\n",
       "      <td>NaN</td>\n",
       "      <td>NaN</td>\n",
       "      <td>NaN</td>\n",
       "      <td>NaN</td>\n",
       "      <td>NaN</td>\n",
       "      <td>NaN</td>\n",
       "      <td>NaN</td>\n",
       "      <td>NaN</td>\n",
       "      <td>NaN</td>\n",
       "      <td>NaN</td>\n",
       "    </tr>\n",
       "    <tr>\n",
       "      <th>cam_col</th>\n",
       "      <td>-0.005763</td>\n",
       "      <td>0.019582</td>\n",
       "      <td>0.032565</td>\n",
       "      <td>0.003548</td>\n",
       "      <td>0.003508</td>\n",
       "      <td>0.008480</td>\n",
       "      <td>0.007615</td>\n",
       "      <td>0.003365</td>\n",
       "      <td>-0.047098</td>\n",
       "      <td>NaN</td>\n",
       "      <td>1.000000</td>\n",
       "      <td>-0.015684</td>\n",
       "      <td>-0.001954</td>\n",
       "      <td>0.000097</td>\n",
       "      <td>-0.001949</td>\n",
       "      <td>-0.006745</td>\n",
       "      <td>0.121597</td>\n",
       "    </tr>\n",
       "    <tr>\n",
       "      <th>field_ID</th>\n",
       "      <td>0.000302</td>\n",
       "      <td>-0.165577</td>\n",
       "      <td>-0.173416</td>\n",
       "      <td>-0.008374</td>\n",
       "      <td>-0.008852</td>\n",
       "      <td>-0.026423</td>\n",
       "      <td>-0.026679</td>\n",
       "      <td>-0.008903</td>\n",
       "      <td>0.031498</td>\n",
       "      <td>NaN</td>\n",
       "      <td>-0.015684</td>\n",
       "      <td>1.000000</td>\n",
       "      <td>-0.083460</td>\n",
       "      <td>-0.021331</td>\n",
       "      <td>-0.083471</td>\n",
       "      <td>-0.095064</td>\n",
       "      <td>-0.012337</td>\n",
       "    </tr>\n",
       "    <tr>\n",
       "      <th>spec_obj_ID</th>\n",
       "      <td>0.005225</td>\n",
       "      <td>-0.002558</td>\n",
       "      <td>0.112324</td>\n",
       "      <td>0.029997</td>\n",
       "      <td>0.039444</td>\n",
       "      <td>0.655254</td>\n",
       "      <td>0.661651</td>\n",
       "      <td>0.037813</td>\n",
       "      <td>0.239453</td>\n",
       "      <td>NaN</td>\n",
       "      <td>-0.001954</td>\n",
       "      <td>-0.083460</td>\n",
       "      <td>1.000000</td>\n",
       "      <td>0.388640</td>\n",
       "      <td>1.000000</td>\n",
       "      <td>0.970166</td>\n",
       "      <td>0.241274</td>\n",
       "    </tr>\n",
       "    <tr>\n",
       "      <th>redshift</th>\n",
       "      <td>-0.004434</td>\n",
       "      <td>0.001667</td>\n",
       "      <td>0.031638</td>\n",
       "      <td>0.014309</td>\n",
       "      <td>0.022954</td>\n",
       "      <td>0.433241</td>\n",
       "      <td>0.492383</td>\n",
       "      <td>0.030380</td>\n",
       "      <td>0.065400</td>\n",
       "      <td>NaN</td>\n",
       "      <td>0.000097</td>\n",
       "      <td>-0.021331</td>\n",
       "      <td>0.388640</td>\n",
       "      <td>1.000000</td>\n",
       "      <td>0.388641</td>\n",
       "      <td>0.387109</td>\n",
       "      <td>0.127044</td>\n",
       "    </tr>\n",
       "    <tr>\n",
       "      <th>plate</th>\n",
       "      <td>0.005225</td>\n",
       "      <td>-0.002554</td>\n",
       "      <td>0.112329</td>\n",
       "      <td>0.029997</td>\n",
       "      <td>0.039443</td>\n",
       "      <td>0.655243</td>\n",
       "      <td>0.661640</td>\n",
       "      <td>0.037813</td>\n",
       "      <td>0.239459</td>\n",
       "      <td>NaN</td>\n",
       "      <td>-0.001949</td>\n",
       "      <td>-0.083471</td>\n",
       "      <td>1.000000</td>\n",
       "      <td>0.388641</td>\n",
       "      <td>1.000000</td>\n",
       "      <td>0.970166</td>\n",
       "      <td>0.241258</td>\n",
       "    </tr>\n",
       "    <tr>\n",
       "      <th>MJD</th>\n",
       "      <td>0.006079</td>\n",
       "      <td>0.019943</td>\n",
       "      <td>0.107333</td>\n",
       "      <td>0.031997</td>\n",
       "      <td>0.040274</td>\n",
       "      <td>0.671180</td>\n",
       "      <td>0.672523</td>\n",
       "      <td>0.037469</td>\n",
       "      <td>0.262687</td>\n",
       "      <td>NaN</td>\n",
       "      <td>-0.006745</td>\n",
       "      <td>-0.095064</td>\n",
       "      <td>0.970166</td>\n",
       "      <td>0.387109</td>\n",
       "      <td>0.970166</td>\n",
       "      <td>1.000000</td>\n",
       "      <td>0.256970</td>\n",
       "    </tr>\n",
       "    <tr>\n",
       "      <th>fiber_ID</th>\n",
       "      <td>0.003208</td>\n",
       "      <td>0.030464</td>\n",
       "      <td>0.028250</td>\n",
       "      <td>0.016305</td>\n",
       "      <td>0.017470</td>\n",
       "      <td>0.223106</td>\n",
       "      <td>0.214787</td>\n",
       "      <td>0.014668</td>\n",
       "      <td>0.067165</td>\n",
       "      <td>NaN</td>\n",
       "      <td>0.121597</td>\n",
       "      <td>-0.012337</td>\n",
       "      <td>0.241274</td>\n",
       "      <td>0.127044</td>\n",
       "      <td>0.241258</td>\n",
       "      <td>0.256970</td>\n",
       "      <td>1.000000</td>\n",
       "    </tr>\n",
       "  </tbody>\n",
       "</table>\n",
       "</div>"
      ],
      "text/plain": [
       "                     obj_ID     alpha     delta  UltraVioletFilter  \\\n",
       "obj_ID             1.000000 -0.000401 -0.013086           0.000887   \n",
       "alpha             -0.000401  1.000000  0.138691          -0.001532   \n",
       "delta             -0.013086  0.138691  1.000000           0.002074   \n",
       "UltraVioletFilter  0.000887 -0.001532  0.002074           1.000000   \n",
       "GreenFilter        0.000757 -0.002423  0.003523           0.999311   \n",
       "RedFilter          0.002709 -0.022083 -0.006835           0.054149   \n",
       "NearInfraFilter    0.003529 -0.023580 -0.004480           0.045730   \n",
       "InfraFilter        0.000610 -0.002918  0.003630           0.998093   \n",
       "run_ID             0.035830 -0.013737 -0.301238           0.015309   \n",
       "rerun_ID                NaN       NaN       NaN                NaN   \n",
       "cam_col           -0.005763  0.019582  0.032565           0.003548   \n",
       "field_ID           0.000302 -0.165577 -0.173416          -0.008374   \n",
       "spec_obj_ID        0.005225 -0.002558  0.112324           0.029997   \n",
       "redshift          -0.004434  0.001667  0.031638           0.014309   \n",
       "plate              0.005225 -0.002554  0.112329           0.029997   \n",
       "MJD                0.006079  0.019943  0.107333           0.031997   \n",
       "fiber_ID           0.003208  0.030464  0.028250           0.016305   \n",
       "\n",
       "                   GreenFilter  RedFilter  NearInfraFilter  InfraFilter  \\\n",
       "obj_ID                0.000757   0.002709         0.003529     0.000610   \n",
       "alpha                -0.002423  -0.022083        -0.023580    -0.002918   \n",
       "delta                 0.003523  -0.006835        -0.004480     0.003630   \n",
       "UltraVioletFilter     0.999311   0.054149         0.045730     0.998093   \n",
       "GreenFilter           1.000000   0.062387         0.056271     0.999161   \n",
       "RedFilter             0.062387   1.000000         0.962868     0.053677   \n",
       "NearInfraFilter       0.056271   0.962868         1.000000     0.055994   \n",
       "InfraFilter           0.999161   0.053677         0.055994     1.000000   \n",
       "run_ID                0.015710   0.153889         0.147668     0.013811   \n",
       "rerun_ID                   NaN        NaN              NaN          NaN   \n",
       "cam_col               0.003508   0.008480         0.007615     0.003365   \n",
       "field_ID             -0.008852  -0.026423        -0.026679    -0.008903   \n",
       "spec_obj_ID           0.039444   0.655254         0.661651     0.037813   \n",
       "redshift              0.022954   0.433241         0.492383     0.030380   \n",
       "plate                 0.039443   0.655243         0.661640     0.037813   \n",
       "MJD                   0.040274   0.671180         0.672523     0.037469   \n",
       "fiber_ID              0.017470   0.223106         0.214787     0.014668   \n",
       "\n",
       "                     run_ID  rerun_ID   cam_col  field_ID  spec_obj_ID  \\\n",
       "obj_ID             0.035830       NaN -0.005763  0.000302     0.005225   \n",
       "alpha             -0.013737       NaN  0.019582 -0.165577    -0.002558   \n",
       "delta             -0.301238       NaN  0.032565 -0.173416     0.112324   \n",
       "UltraVioletFilter  0.015309       NaN  0.003548 -0.008374     0.029997   \n",
       "GreenFilter        0.015710       NaN  0.003508 -0.008852     0.039444   \n",
       "RedFilter          0.153889       NaN  0.008480 -0.026423     0.655254   \n",
       "NearInfraFilter    0.147668       NaN  0.007615 -0.026679     0.661651   \n",
       "InfraFilter        0.013811       NaN  0.003365 -0.008903     0.037813   \n",
       "run_ID             1.000000       NaN -0.047098  0.031498     0.239453   \n",
       "rerun_ID                NaN       NaN       NaN       NaN          NaN   \n",
       "cam_col           -0.047098       NaN  1.000000 -0.015684    -0.001954   \n",
       "field_ID           0.031498       NaN -0.015684  1.000000    -0.083460   \n",
       "spec_obj_ID        0.239453       NaN -0.001954 -0.083460     1.000000   \n",
       "redshift           0.065400       NaN  0.000097 -0.021331     0.388640   \n",
       "plate              0.239459       NaN -0.001949 -0.083471     1.000000   \n",
       "MJD                0.262687       NaN -0.006745 -0.095064     0.970166   \n",
       "fiber_ID           0.067165       NaN  0.121597 -0.012337     0.241274   \n",
       "\n",
       "                   redshift     plate       MJD  fiber_ID  \n",
       "obj_ID            -0.004434  0.005225  0.006079  0.003208  \n",
       "alpha              0.001667 -0.002554  0.019943  0.030464  \n",
       "delta              0.031638  0.112329  0.107333  0.028250  \n",
       "UltraVioletFilter  0.014309  0.029997  0.031997  0.016305  \n",
       "GreenFilter        0.022954  0.039443  0.040274  0.017470  \n",
       "RedFilter          0.433241  0.655243  0.671180  0.223106  \n",
       "NearInfraFilter    0.492383  0.661640  0.672523  0.214787  \n",
       "InfraFilter        0.030380  0.037813  0.037469  0.014668  \n",
       "run_ID             0.065400  0.239459  0.262687  0.067165  \n",
       "rerun_ID                NaN       NaN       NaN       NaN  \n",
       "cam_col            0.000097 -0.001949 -0.006745  0.121597  \n",
       "field_ID          -0.021331 -0.083471 -0.095064 -0.012337  \n",
       "spec_obj_ID        0.388640  1.000000  0.970166  0.241274  \n",
       "redshift           1.000000  0.388641  0.387109  0.127044  \n",
       "plate              0.388641  1.000000  0.970166  0.241258  \n",
       "MJD                0.387109  0.970166  1.000000  0.256970  \n",
       "fiber_ID           0.127044  0.241258  0.256970  1.000000  "
      ]
     },
     "execution_count": 24,
     "metadata": {},
     "output_type": "execute_result"
    }
   ],
   "source": [
    "kn.corr()"
   ]
  },
  {
   "cell_type": "code",
   "execution_count": 25,
   "metadata": {},
   "outputs": [
    {
     "data": {
      "text/plain": [
       "GALAXY    59445\n",
       "STAR      21594\n",
       "QSO       18961\n",
       "Name: class, dtype: int64"
      ]
     },
     "execution_count": 25,
     "metadata": {},
     "output_type": "execute_result"
    }
   ],
   "source": [
    "kn['class'].value_counts()"
   ]
  },
  {
   "cell_type": "markdown",
   "metadata": {},
   "source": [
    "# 3. DATA VISUALIZATION"
   ]
  },
  {
   "cell_type": "code",
   "execution_count": 26,
   "metadata": {},
   "outputs": [],
   "source": [
    "#importing required libraries\n",
    "import matplotlib.pyplot as plt\n",
    "import seaborn as sns"
   ]
  },
  {
   "cell_type": "code",
   "execution_count": 27,
   "metadata": {},
   "outputs": [
    {
     "data": {
      "image/png": "[encoded data removed]",
      "text/plain": [
       "<Figure size 1080x720 with 1 Axes>"
      ]
     },
     "metadata": {
      "needs_background": "light"
     },
     "output_type": "display_data"
    }
   ],
   "source": [
    "kn[\"UltraVioletFilter\"].hist(figsize=(15,10), color = 'purple')\n",
    "#Title Of the Graph\n",
    "plt.title(\"ULTRA VIOLET FILTER\", size=25)\n",
    "#X Axis Attribute\n",
    "plt.xlabel(\"LIGHT RADIATION\", size=15)\n",
    "#Y Axis Attribute\n",
    "plt.ylabel(\"SPEED CALCULATIONS\", size=15)\n",
    "plt.show()"
   ]
  },
  {
   "cell_type": "code",
   "execution_count": 28,
   "metadata": {},
   "outputs": [
    {
     "data": {
      "image/png": "[encoded data removed]",
      "text/plain": [
       "<Figure size 3600x1440 with 1 Axes>"
      ]
     },
     "metadata": {
      "needs_background": "light"
     },
     "output_type": "display_data"
    }
   ],
   "source": [
    "kn[\"RedFilter\"].plot(figsize=(50,20), color='red',fontsize='30')\n",
    "plt.title('RED FILTER', size = 25)\n",
    "plt.xlabel(\"AMOUNT OF DATA\", size=25)\n",
    "plt.show()"
   ]
  },
  {
   "cell_type": "code",
   "execution_count": 29,
   "metadata": {},
   "outputs": [
    {
     "data": {
      "image/png": "[encoded data removed]",
      "text/plain": [
       "<Figure size 1080x720 with 1 Axes>"
      ]
     },
     "metadata": {
      "needs_background": "light"
     },
     "output_type": "display_data"
    }
   ],
   "source": [
    "kn[\"GreenFilter\"].plot(figsize=(15,10), color='green')\n",
    "plt.title('GREEN FILTER', size = 25)\n",
    "plt.xlabel(\"AMOUNT OF DATA\", size=15)\n",
    "plt.show()"
   ]
  },
  {
   "cell_type": "code",
   "execution_count": 30,
   "metadata": {},
   "outputs": [
    {
     "data": {
      "image/png": "[encoded data removed]",
      "text/plain": [
       "<Figure size 1440x4320 with 45 Axes>"
      ]
     },
     "metadata": {
      "needs_background": "light"
     },
     "output_type": "display_data"
    }
   ],
   "source": [
    "#Histogram plot\n",
    "kn.hist(figsize=(20,60), color='orange', layout=(15,3))\n",
    "plt.show()"
   ]
  },
  {
   "cell_type": "code",
   "execution_count": 31,
   "metadata": {},
   "outputs": [
    {
     "name": "stdout",
     "output_type": "stream",
     "text": [
      "Box Plot:\n"
     ]
    },
    {
     "data": {
      "image/png": "[encoded data removed]",
      "text/plain": [
       "<Figure size 432x288 with 1 Axes>"
      ]
     },
     "metadata": {
      "needs_background": "light"
     },
     "output_type": "display_data"
    },
    {
     "name": "stdout",
     "output_type": "stream",
     "text": [
      "Box Plot:\n"
     ]
    },
    {
     "data": {
      "image/png": "[encoded data removed]",
      "text/plain": [
       "<Figure size 432x288 with 1 Axes>"
      ]
     },
     "metadata": {
      "needs_background": "light"
     },
     "output_type": "display_data"
    },
    {
     "name": "stdout",
     "output_type": "stream",
     "text": [
      "Box Plot:\n"
     ]
    },
    {
     "data": {
      "image/png": "[encoded data removed]",
      "text/plain": [
       "<Figure size 432x288 with 1 Axes>"
      ]
     },
     "metadata": {
      "needs_background": "light"
     },
     "output_type": "display_data"
    },
    {
     "name": "stdout",
     "output_type": "stream",
     "text": [
      "Box Plot:\n"
     ]
    },
    {
     "data": {
      "image/png": "[encoded data removed]",
      "text/plain": [
       "<Figure size 432x288 with 1 Axes>"
      ]
     },
     "metadata": {
      "needs_background": "light"
     },
     "output_type": "display_data"
    },
    {
     "name": "stdout",
     "output_type": "stream",
     "text": [
      "Box Plot:\n"
     ]
    },
    {
     "data": {
      "image/png": "[encoded data removed]",
      "text/plain": [
       "<Figure size 432x288 with 1 Axes>"
      ]
     },
     "metadata": {
      "needs_background": "light"
     },
     "output_type": "display_data"
    },
    {
     "name": "stdout",
     "output_type": "stream",
     "text": [
      "Box Plot:\n"
     ]
    },
    {
     "data": {
      "image/png": "[encoded data removed]",
      "text/plain": [
       "<Figure size 432x288 with 1 Axes>"
      ]
     },
     "metadata": {
      "needs_background": "light"
     },
     "output_type": "display_data"
    },
    {
     "name": "stdout",
     "output_type": "stream",
     "text": [
      "Box Plot:\n"
     ]
    },
    {
     "data": {
      "image/png": "[encoded data removed]",
      "text/plain": [
       "<Figure size 432x288 with 1 Axes>"
      ]
     },
     "metadata": {
      "needs_background": "light"
     },
     "output_type": "display_data"
    },
    {
     "name": "stdout",
     "output_type": "stream",
     "text": [
      "Box Plot:\n"
     ]
    },
    {
     "data": {
      "image/png": "[encoded data removed]",
      "text/plain": [
       "<Figure size 432x288 with 1 Axes>"
      ]
     },
     "metadata": {
      "needs_background": "light"
     },
     "output_type": "display_data"
    },
    {
     "name": "stdout",
     "output_type": "stream",
     "text": [
      "Box Plot:\n"
     ]
    },
    {
     "data": {
      "image/png": "[encoded data removed]",
      "text/plain": [
       "<Figure size 432x288 with 1 Axes>"
      ]
     },
     "metadata": {
      "needs_background": "light"
     },
     "output_type": "display_data"
    },
    {
     "name": "stdout",
     "output_type": "stream",
     "text": [
      "Box Plot:\n"
     ]
    },
    {
     "data": {
      "image/png": "[encoded data removed]",
      "text/plain": [
       "<Figure size 432x288 with 1 Axes>"
      ]
     },
     "metadata": {
      "needs_background": "light"
     },
     "output_type": "display_data"
    },
    {
     "name": "stdout",
     "output_type": "stream",
     "text": [
      "Box Plot:\n"
     ]
    },
    {
     "data": {
      "image/png": "[encoded data removed]",
      "text/plain": [
       "<Figure size 432x288 with 1 Axes>"
      ]
     },
     "metadata": {
      "needs_background": "light"
     },
     "output_type": "display_data"
    },
    {
     "name": "stdout",
     "output_type": "stream",
     "text": [
      "Box Plot:\n"
     ]
    },
    {
     "data": {
      "image/png": "[encoded data removed]",
      "text/plain": [
       "<Figure size 432x288 with 1 Axes>"
      ]
     },
     "metadata": {
      "needs_background": "light"
     },
     "output_type": "display_data"
    },
    {
     "name": "stdout",
     "output_type": "stream",
     "text": [
      "Box Plot:\n"
     ]
    },
    {
     "data": {
      "image/png": "[encoded data removed]",
      "text/plain": [
       "<Figure size 432x288 with 1 Axes>"
      ]
     },
     "metadata": {
      "needs_background": "light"
     },
     "output_type": "display_data"
    },
    {
     "name": "stdout",
     "output_type": "stream",
     "text": [
      "Box Plot:\n"
     ]
    },
    {
     "data": {
      "image/png": "[encoded data removed]",
      "text/plain": [
       "<Figure size 432x288 with 1 Axes>"
      ]
     },
     "metadata": {
      "needs_background": "light"
     },
     "output_type": "display_data"
    },
    {
     "name": "stdout",
     "output_type": "stream",
     "text": [
      "Box Plot:\n"
     ]
    },
    {
     "data": {
      "image/png": "[encoded data removed]",
      "text/plain": [
       "<Figure size 432x288 with 1 Axes>"
      ]
     },
     "metadata": {
      "needs_background": "light"
     },
     "output_type": "display_data"
    },
    {
     "name": "stdout",
     "output_type": "stream",
     "text": [
      "Box Plot:\n"
     ]
    },
    {
     "data": {
      "image/png": "[encoded data removed]",
      "text/plain": [
       "<Figure size 432x288 with 1 Axes>"
      ]
     },
     "metadata": {
      "needs_background": "light"
     },
     "output_type": "display_data"
    },
    {
     "name": "stdout",
     "output_type": "stream",
     "text": [
      "Box Plot:\n"
     ]
    },
    {
     "data": {
      "image/png": "[encoded data removed]",
      "text/plain": [
       "<Figure size 432x288 with 1 Axes>"
      ]
     },
     "metadata": {
      "needs_background": "light"
     },
     "output_type": "display_data"
    }
   ],
   "source": [
    "#Box Plot\n",
    "for col in kn.columns:\n",
    "    if col not in ['class']:\n",
    "        print(\"Box Plot:\")\n",
    "        sns.boxplot(kn[col])\n",
    "        plt.show()"
   ]
  },
  {
   "cell_type": "code",
   "execution_count": 32,
   "metadata": {},
   "outputs": [
    {
     "data": {
      "text/plain": [
       "<AxesSubplot:xlabel='NearInfraFilter', ylabel='RedFilter'>"
      ]
     },
     "execution_count": 32,
     "metadata": {},
     "output_type": "execute_result"
    },
    {
     "data": {
      "image/png": "[encoded data removed]",
      "text/plain": [
       "<Figure size 1008x576 with 1 Axes>"
      ]
     },
     "metadata": {
      "needs_background": "light"
     },
     "output_type": "display_data"
    }
   ],
   "source": [
    "#Scatter Plot\n",
    "plt.figure(figsize=(14,8))\n",
    "sns.regplot(kn.NearInfraFilter,kn.RedFilter)"
   ]
  },
  {
   "cell_type": "markdown",
   "metadata": {},
   "source": [
    "CLASS PROPORTION"
   ]
  },
  {
   "cell_type": "code",
   "execution_count": 33,
   "metadata": {},
   "outputs": [
    {
     "data": {
      "image/png": "[encoded data removed]",
      "text/plain": [
       "<Figure size 1080x1080 with 1 Axes>"
      ]
     },
     "metadata": {},
     "output_type": "display_data"
    }
   ],
   "source": [
    "#Depicting the data in the form of Pie Chart\n",
    "def Contract(kn, variable):\n",
    "    dataframe_pie = kn[variable].value_counts()\n",
    "    ax = dataframe_pie.plot.pie(figsize=(15,15), autopct='%1.2f%%', fontsize = 30)\n",
    "    ax.set_title(variable + ' \\n', fontsize = 30)\n",
    "    \n",
    "Contract(kn, 'class')"
   ]
  },
  {
   "cell_type": "markdown",
   "metadata": {},
   "source": [
    "CLASS DISTRIBUTION"
   ]
  },
  {
   "cell_type": "code",
   "execution_count": 34,
   "metadata": {},
   "outputs": [
    {
     "data": {
      "text/plain": [
       "<AxesSubplot:xlabel='class', ylabel='count'>"
      ]
     },
     "execution_count": 34,
     "metadata": {},
     "output_type": "execute_result"
    },
    {
     "data": {
      "image/png": "[encoded data removed]",
      "text/plain": [
       "<Figure size 1440x1080 with 1 Axes>"
      ]
     },
     "metadata": {
      "needs_background": "light"
     },
     "output_type": "display_data"
    }
   ],
   "source": [
    "#Depiction Of Data in the form of Bar Chart\n",
    "plt.figure(figsize=(20,15))\n",
    "sns.countplot(kn['class'], palette='coolwarm')"
   ]
  },
  {
   "cell_type": "markdown",
   "metadata": {},
   "source": [
    "# Multivariate Analysis"
   ]
  },
  {
   "cell_type": "code",
   "execution_count": 35,
   "metadata": {},
   "outputs": [
    {
     "data": {
      "text/plain": [
       "<AxesSubplot:>"
      ]
     },
     "execution_count": 35,
     "metadata": {},
     "output_type": "execute_result"
    },
    {
     "data": {
      "image/png": "[encoded data removed]",
      "text/plain": [
       "<Figure size 1152x720 with 2 Axes>"
      ]
     },
     "metadata": {
      "needs_background": "light"
     },
     "output_type": "display_data"
    }
   ],
   "source": [
    "#Feature Heatmap Plot\n",
    "\n",
    "#Setting up the matplotlib figure\n",
    "fig, ax = plt.subplots(figsize=(16,10))\n",
    "sns.heatmap(kn.corr(), ax=ax, annot=True)"
   ]
  },
  {
   "cell_type": "markdown",
   "metadata": {},
   "source": [
    "From the above graph, we could infer that the data comprises 59.44% of Galaxy, which contributes more than half of the share followed by Stars having a share of 21.59% and 18.96% of QSO(Quasar)"
   ]
  },
  {
   "cell_type": "markdown",
   "metadata": {},
   "source": [
    "# 4. DATA TRANSFORMATION"
   ]
  },
  {
   "cell_type": "markdown",
   "metadata": {},
   "source": [
    "Missing Or Duplicate Values"
   ]
  },
  {
   "cell_type": "code",
   "execution_count": 36,
   "metadata": {},
   "outputs": [
    {
     "data": {
      "text/html": [
       "<div>\n",
       "<style scoped>\n",
       "    .dataframe tbody tr th:only-of-type {\n",
       "        vertical-align: middle;\n",
       "    }\n",
       "\n",
       "    .dataframe tbody tr th {\n",
       "        vertical-align: top;\n",
       "    }\n",
       "\n",
       "    .dataframe thead th {\n",
       "        text-align: right;\n",
       "    }\n",
       "</style>\n",
       "<table border=\"1\" class=\"dataframe\">\n",
       "  <thead>\n",
       "    <tr style=\"text-align: right;\">\n",
       "      <th></th>\n",
       "      <th>obj_ID</th>\n",
       "      <th>alpha</th>\n",
       "      <th>delta</th>\n",
       "      <th>UltraVioletFilter</th>\n",
       "      <th>GreenFilter</th>\n",
       "      <th>RedFilter</th>\n",
       "      <th>NearInfraFilter</th>\n",
       "      <th>InfraFilter</th>\n",
       "      <th>run_ID</th>\n",
       "      <th>rerun_ID</th>\n",
       "      <th>cam_col</th>\n",
       "      <th>field_ID</th>\n",
       "      <th>spec_obj_ID</th>\n",
       "      <th>class</th>\n",
       "      <th>redshift</th>\n",
       "      <th>plate</th>\n",
       "      <th>MJD</th>\n",
       "      <th>fiber_ID</th>\n",
       "    </tr>\n",
       "  </thead>\n",
       "  <tbody>\n",
       "  </tbody>\n",
       "</table>\n",
       "</div>"
      ],
      "text/plain": [
       "Empty DataFrame\n",
       "Columns: [obj_ID, alpha, delta, UltraVioletFilter, GreenFilter, RedFilter, NearInfraFilter, InfraFilter, run_ID, rerun_ID, cam_col, field_ID, spec_obj_ID, class, redshift, plate, MJD, fiber_ID]\n",
       "Index: []"
      ]
     },
     "execution_count": 36,
     "metadata": {},
     "output_type": "execute_result"
    }
   ],
   "source": [
    "kn[kn.duplicated()]"
   ]
  },
  {
   "cell_type": "markdown",
   "metadata": {},
   "source": [
    "There are no Duplicate values in the Dataset"
   ]
  },
  {
   "cell_type": "markdown",
   "metadata": {},
   "source": [
    "Encoding Categorical Values"
   ]
  },
  {
   "cell_type": "code",
   "execution_count": 37,
   "metadata": {},
   "outputs": [],
   "source": [
    "from sklearn.preprocessing import LabelEncoder"
   ]
  },
  {
   "cell_type": "code",
   "execution_count": 38,
   "metadata": {},
   "outputs": [],
   "source": [
    "le = LabelEncoder()\n",
    "\n",
    "var = ['class']\n",
    "\n",
    "for i in var:\n",
    "    kn[i] = le.fit_transform(kn[i]).astype(int)"
   ]
  },
  {
   "cell_type": "markdown",
   "metadata": {},
   "source": [
    "Scaling Of Values"
   ]
  },
  {
   "cell_type": "code",
   "execution_count": 39,
   "metadata": {},
   "outputs": [
    {
     "data": {
      "text/html": [
       "<div>\n",
       "<style scoped>\n",
       "    .dataframe tbody tr th:only-of-type {\n",
       "        vertical-align: middle;\n",
       "    }\n",
       "\n",
       "    .dataframe tbody tr th {\n",
       "        vertical-align: top;\n",
       "    }\n",
       "\n",
       "    .dataframe thead th {\n",
       "        text-align: right;\n",
       "    }\n",
       "</style>\n",
       "<table border=\"1\" class=\"dataframe\">\n",
       "  <thead>\n",
       "    <tr style=\"text-align: right;\">\n",
       "      <th></th>\n",
       "      <th>obj_ID</th>\n",
       "      <th>alpha</th>\n",
       "      <th>delta</th>\n",
       "      <th>UltraVioletFilter</th>\n",
       "      <th>GreenFilter</th>\n",
       "      <th>RedFilter</th>\n",
       "      <th>NearInfraFilter</th>\n",
       "      <th>InfraFilter</th>\n",
       "      <th>run_ID</th>\n",
       "      <th>rerun_ID</th>\n",
       "      <th>cam_col</th>\n",
       "      <th>field_ID</th>\n",
       "      <th>spec_obj_ID</th>\n",
       "      <th>class</th>\n",
       "      <th>redshift</th>\n",
       "      <th>plate</th>\n",
       "      <th>MJD</th>\n",
       "      <th>fiber_ID</th>\n",
       "    </tr>\n",
       "  </thead>\n",
       "  <tbody>\n",
       "    <tr>\n",
       "      <th>0</th>\n",
       "      <td>1.237660e+18</td>\n",
       "      <td>135.689107</td>\n",
       "      <td>32.494632</td>\n",
       "      <td>23.87882</td>\n",
       "      <td>22.27530</td>\n",
       "      <td>20.39501</td>\n",
       "      <td>19.16573</td>\n",
       "      <td>18.79371</td>\n",
       "      <td>3606</td>\n",
       "      <td>301</td>\n",
       "      <td>2</td>\n",
       "      <td>79</td>\n",
       "      <td>6.543780e+18</td>\n",
       "      <td>0</td>\n",
       "      <td>0.634794</td>\n",
       "      <td>5812</td>\n",
       "      <td>56354</td>\n",
       "      <td>171</td>\n",
       "    </tr>\n",
       "    <tr>\n",
       "      <th>1</th>\n",
       "      <td>1.237660e+18</td>\n",
       "      <td>144.826101</td>\n",
       "      <td>31.274185</td>\n",
       "      <td>24.77759</td>\n",
       "      <td>22.83188</td>\n",
       "      <td>22.58444</td>\n",
       "      <td>21.16812</td>\n",
       "      <td>21.61427</td>\n",
       "      <td>4518</td>\n",
       "      <td>301</td>\n",
       "      <td>5</td>\n",
       "      <td>119</td>\n",
       "      <td>1.176010e+19</td>\n",
       "      <td>0</td>\n",
       "      <td>0.779136</td>\n",
       "      <td>10445</td>\n",
       "      <td>58158</td>\n",
       "      <td>427</td>\n",
       "    </tr>\n",
       "    <tr>\n",
       "      <th>2</th>\n",
       "      <td>1.237660e+18</td>\n",
       "      <td>142.188790</td>\n",
       "      <td>35.582444</td>\n",
       "      <td>25.26307</td>\n",
       "      <td>22.66389</td>\n",
       "      <td>20.60976</td>\n",
       "      <td>19.34857</td>\n",
       "      <td>18.94827</td>\n",
       "      <td>3606</td>\n",
       "      <td>301</td>\n",
       "      <td>2</td>\n",
       "      <td>120</td>\n",
       "      <td>5.152200e+18</td>\n",
       "      <td>0</td>\n",
       "      <td>0.644195</td>\n",
       "      <td>4576</td>\n",
       "      <td>55592</td>\n",
       "      <td>299</td>\n",
       "    </tr>\n",
       "    <tr>\n",
       "      <th>3</th>\n",
       "      <td>1.237660e+18</td>\n",
       "      <td>338.741038</td>\n",
       "      <td>-0.402828</td>\n",
       "      <td>22.13682</td>\n",
       "      <td>23.77656</td>\n",
       "      <td>21.61162</td>\n",
       "      <td>20.50454</td>\n",
       "      <td>19.25010</td>\n",
       "      <td>4192</td>\n",
       "      <td>301</td>\n",
       "      <td>3</td>\n",
       "      <td>214</td>\n",
       "      <td>1.030110e+19</td>\n",
       "      <td>0</td>\n",
       "      <td>0.932346</td>\n",
       "      <td>9149</td>\n",
       "      <td>58039</td>\n",
       "      <td>775</td>\n",
       "    </tr>\n",
       "    <tr>\n",
       "      <th>4</th>\n",
       "      <td>1.237680e+18</td>\n",
       "      <td>345.282593</td>\n",
       "      <td>21.183866</td>\n",
       "      <td>19.43718</td>\n",
       "      <td>17.58028</td>\n",
       "      <td>16.49747</td>\n",
       "      <td>15.97711</td>\n",
       "      <td>15.54461</td>\n",
       "      <td>8102</td>\n",
       "      <td>301</td>\n",
       "      <td>3</td>\n",
       "      <td>137</td>\n",
       "      <td>6.891860e+18</td>\n",
       "      <td>0</td>\n",
       "      <td>0.116123</td>\n",
       "      <td>6121</td>\n",
       "      <td>56187</td>\n",
       "      <td>842</td>\n",
       "    </tr>\n",
       "    <tr>\n",
       "      <th>...</th>\n",
       "      <td>...</td>\n",
       "      <td>...</td>\n",
       "      <td>...</td>\n",
       "      <td>...</td>\n",
       "      <td>...</td>\n",
       "      <td>...</td>\n",
       "      <td>...</td>\n",
       "      <td>...</td>\n",
       "      <td>...</td>\n",
       "      <td>...</td>\n",
       "      <td>...</td>\n",
       "      <td>...</td>\n",
       "      <td>...</td>\n",
       "      <td>...</td>\n",
       "      <td>...</td>\n",
       "      <td>...</td>\n",
       "      <td>...</td>\n",
       "      <td>...</td>\n",
       "    </tr>\n",
       "    <tr>\n",
       "      <th>99995</th>\n",
       "      <td>1.237680e+18</td>\n",
       "      <td>39.620709</td>\n",
       "      <td>-2.594074</td>\n",
       "      <td>22.16759</td>\n",
       "      <td>22.97586</td>\n",
       "      <td>21.90404</td>\n",
       "      <td>21.30548</td>\n",
       "      <td>20.73569</td>\n",
       "      <td>7778</td>\n",
       "      <td>301</td>\n",
       "      <td>2</td>\n",
       "      <td>581</td>\n",
       "      <td>1.060000e+19</td>\n",
       "      <td>0</td>\n",
       "      <td>0.000000</td>\n",
       "      <td>9374</td>\n",
       "      <td>57749</td>\n",
       "      <td>438</td>\n",
       "    </tr>\n",
       "    <tr>\n",
       "      <th>99996</th>\n",
       "      <td>1.237680e+18</td>\n",
       "      <td>29.493819</td>\n",
       "      <td>19.798874</td>\n",
       "      <td>22.69118</td>\n",
       "      <td>22.38628</td>\n",
       "      <td>20.45003</td>\n",
       "      <td>19.75759</td>\n",
       "      <td>19.41526</td>\n",
       "      <td>7917</td>\n",
       "      <td>301</td>\n",
       "      <td>1</td>\n",
       "      <td>289</td>\n",
       "      <td>8.586350e+18</td>\n",
       "      <td>0</td>\n",
       "      <td>0.404895</td>\n",
       "      <td>7626</td>\n",
       "      <td>56934</td>\n",
       "      <td>866</td>\n",
       "    </tr>\n",
       "    <tr>\n",
       "      <th>99997</th>\n",
       "      <td>1.237670e+18</td>\n",
       "      <td>224.587407</td>\n",
       "      <td>15.700707</td>\n",
       "      <td>21.16916</td>\n",
       "      <td>19.26997</td>\n",
       "      <td>18.20428</td>\n",
       "      <td>17.69034</td>\n",
       "      <td>17.35221</td>\n",
       "      <td>5314</td>\n",
       "      <td>301</td>\n",
       "      <td>4</td>\n",
       "      <td>308</td>\n",
       "      <td>3.112010e+18</td>\n",
       "      <td>0</td>\n",
       "      <td>0.143366</td>\n",
       "      <td>2764</td>\n",
       "      <td>54535</td>\n",
       "      <td>74</td>\n",
       "    </tr>\n",
       "    <tr>\n",
       "      <th>99998</th>\n",
       "      <td>1.237660e+18</td>\n",
       "      <td>212.268621</td>\n",
       "      <td>46.660365</td>\n",
       "      <td>25.35039</td>\n",
       "      <td>21.63757</td>\n",
       "      <td>19.91386</td>\n",
       "      <td>19.07254</td>\n",
       "      <td>18.62482</td>\n",
       "      <td>3650</td>\n",
       "      <td>301</td>\n",
       "      <td>4</td>\n",
       "      <td>131</td>\n",
       "      <td>7.601080e+18</td>\n",
       "      <td>0</td>\n",
       "      <td>0.455040</td>\n",
       "      <td>6751</td>\n",
       "      <td>56368</td>\n",
       "      <td>470</td>\n",
       "    </tr>\n",
       "    <tr>\n",
       "      <th>99999</th>\n",
       "      <td>1.237660e+18</td>\n",
       "      <td>196.896053</td>\n",
       "      <td>49.464643</td>\n",
       "      <td>22.62171</td>\n",
       "      <td>21.79745</td>\n",
       "      <td>20.60115</td>\n",
       "      <td>20.00959</td>\n",
       "      <td>19.28075</td>\n",
       "      <td>3650</td>\n",
       "      <td>301</td>\n",
       "      <td>4</td>\n",
       "      <td>60</td>\n",
       "      <td>8.343150e+18</td>\n",
       "      <td>0</td>\n",
       "      <td>0.542944</td>\n",
       "      <td>7410</td>\n",
       "      <td>57104</td>\n",
       "      <td>851</td>\n",
       "    </tr>\n",
       "  </tbody>\n",
       "</table>\n",
       "<p>100000 rows × 18 columns</p>\n",
       "</div>"
      ],
      "text/plain": [
       "             obj_ID       alpha      delta  UltraVioletFilter  GreenFilter  \\\n",
       "0      1.237660e+18  135.689107  32.494632           23.87882     22.27530   \n",
       "1      1.237660e+18  144.826101  31.274185           24.77759     22.83188   \n",
       "2      1.237660e+18  142.188790  35.582444           25.26307     22.66389   \n",
       "3      1.237660e+18  338.741038  -0.402828           22.13682     23.77656   \n",
       "4      1.237680e+18  345.282593  21.183866           19.43718     17.58028   \n",
       "...             ...         ...        ...                ...          ...   \n",
       "99995  1.237680e+18   39.620709  -2.594074           22.16759     22.97586   \n",
       "99996  1.237680e+18   29.493819  19.798874           22.69118     22.38628   \n",
       "99997  1.237670e+18  224.587407  15.700707           21.16916     19.26997   \n",
       "99998  1.237660e+18  212.268621  46.660365           25.35039     21.63757   \n",
       "99999  1.237660e+18  196.896053  49.464643           22.62171     21.79745   \n",
       "\n",
       "       RedFilter  NearInfraFilter  InfraFilter  run_ID  rerun_ID  cam_col  \\\n",
       "0       20.39501         19.16573     18.79371    3606       301        2   \n",
       "1       22.58444         21.16812     21.61427    4518       301        5   \n",
       "2       20.60976         19.34857     18.94827    3606       301        2   \n",
       "3       21.61162         20.50454     19.25010    4192       301        3   \n",
       "4       16.49747         15.97711     15.54461    8102       301        3   \n",
       "...          ...              ...          ...     ...       ...      ...   \n",
       "99995   21.90404         21.30548     20.73569    7778       301        2   \n",
       "99996   20.45003         19.75759     19.41526    7917       301        1   \n",
       "99997   18.20428         17.69034     17.35221    5314       301        4   \n",
       "99998   19.91386         19.07254     18.62482    3650       301        4   \n",
       "99999   20.60115         20.00959     19.28075    3650       301        4   \n",
       "\n",
       "       field_ID   spec_obj_ID  class  redshift  plate    MJD  fiber_ID  \n",
       "0            79  6.543780e+18      0  0.634794   5812  56354       171  \n",
       "1           119  1.176010e+19      0  0.779136  10445  58158       427  \n",
       "2           120  5.152200e+18      0  0.644195   4576  55592       299  \n",
       "3           214  1.030110e+19      0  0.932346   9149  58039       775  \n",
       "4           137  6.891860e+18      0  0.116123   6121  56187       842  \n",
       "...         ...           ...    ...       ...    ...    ...       ...  \n",
       "99995       581  1.060000e+19      0  0.000000   9374  57749       438  \n",
       "99996       289  8.586350e+18      0  0.404895   7626  56934       866  \n",
       "99997       308  3.112010e+18      0  0.143366   2764  54535        74  \n",
       "99998       131  7.601080e+18      0  0.455040   6751  56368       470  \n",
       "99999        60  8.343150e+18      0  0.542944   7410  57104       851  \n",
       "\n",
       "[100000 rows x 18 columns]"
      ]
     },
     "execution_count": 39,
     "metadata": {},
     "output_type": "execute_result"
    }
   ],
   "source": [
    "kn"
   ]
  },
  {
   "cell_type": "markdown",
   "metadata": {},
   "source": [
    "Remove Redundant Columns"
   ]
  },
  {
   "cell_type": "code",
   "execution_count": 40,
   "metadata": {},
   "outputs": [],
   "source": [
    "#dropping columns\n",
    "del kn['obj_ID']\n",
    "del kn['NearInfraFilter']\n",
    "del kn['run_ID']\n",
    "del kn['rerun_ID']\n",
    "del kn['cam_col']\n",
    "del kn['field_ID']\n",
    "del kn['spec_obj_ID']\n",
    "del kn['fiber_ID']\n",
    "del kn['plate']"
   ]
  },
  {
   "cell_type": "code",
   "execution_count": 41,
   "metadata": {},
   "outputs": [
    {
     "data": {
      "text/html": [
       "<div>\n",
       "<style scoped>\n",
       "    .dataframe tbody tr th:only-of-type {\n",
       "        vertical-align: middle;\n",
       "    }\n",
       "\n",
       "    .dataframe tbody tr th {\n",
       "        vertical-align: top;\n",
       "    }\n",
       "\n",
       "    .dataframe thead th {\n",
       "        text-align: right;\n",
       "    }\n",
       "</style>\n",
       "<table border=\"1\" class=\"dataframe\">\n",
       "  <thead>\n",
       "    <tr style=\"text-align: right;\">\n",
       "      <th></th>\n",
       "      <th>alpha</th>\n",
       "      <th>delta</th>\n",
       "      <th>UltraVioletFilter</th>\n",
       "      <th>GreenFilter</th>\n",
       "      <th>RedFilter</th>\n",
       "      <th>InfraFilter</th>\n",
       "      <th>class</th>\n",
       "      <th>redshift</th>\n",
       "      <th>MJD</th>\n",
       "    </tr>\n",
       "  </thead>\n",
       "  <tbody>\n",
       "    <tr>\n",
       "      <th>0</th>\n",
       "      <td>135.689107</td>\n",
       "      <td>32.494632</td>\n",
       "      <td>23.87882</td>\n",
       "      <td>22.2753</td>\n",
       "      <td>20.39501</td>\n",
       "      <td>18.79371</td>\n",
       "      <td>0</td>\n",
       "      <td>0.634794</td>\n",
       "      <td>56354</td>\n",
       "    </tr>\n",
       "  </tbody>\n",
       "</table>\n",
       "</div>"
      ],
      "text/plain": [
       "        alpha      delta  UltraVioletFilter  GreenFilter  RedFilter  \\\n",
       "0  135.689107  32.494632           23.87882      22.2753   20.39501   \n",
       "\n",
       "   InfraFilter  class  redshift    MJD  \n",
       "0     18.79371      0  0.634794  56354  "
      ]
     },
     "execution_count": 41,
     "metadata": {},
     "output_type": "execute_result"
    }
   ],
   "source": [
    "#after dropping columns\n",
    "kn.head(1)"
   ]
  },
  {
   "cell_type": "markdown",
   "metadata": {},
   "source": [
    "# 5. TRAIN / TEST SPLIT"
   ]
  },
  {
   "cell_type": "code",
   "execution_count": 42,
   "metadata": {},
   "outputs": [],
   "source": [
    "#preprocessing, split test and dataset, split response variable\n",
    "X = kn.drop(labels='class', axis=1)\n",
    "#Response variable\n",
    "Y = kn.loc[:,'class']"
   ]
  },
  {
   "cell_type": "code",
   "execution_count": 43,
   "metadata": {},
   "outputs": [
    {
     "data": {
      "text/html": [
       "<div>\n",
       "<style scoped>\n",
       "    .dataframe tbody tr th:only-of-type {\n",
       "        vertical-align: middle;\n",
       "    }\n",
       "\n",
       "    .dataframe tbody tr th {\n",
       "        vertical-align: top;\n",
       "    }\n",
       "\n",
       "    .dataframe thead th {\n",
       "        text-align: right;\n",
       "    }\n",
       "</style>\n",
       "<table border=\"1\" class=\"dataframe\">\n",
       "  <thead>\n",
       "    <tr style=\"text-align: right;\">\n",
       "      <th></th>\n",
       "      <th>alpha</th>\n",
       "      <th>delta</th>\n",
       "      <th>UltraVioletFilter</th>\n",
       "      <th>GreenFilter</th>\n",
       "      <th>RedFilter</th>\n",
       "      <th>InfraFilter</th>\n",
       "      <th>class</th>\n",
       "      <th>redshift</th>\n",
       "      <th>MJD</th>\n",
       "    </tr>\n",
       "  </thead>\n",
       "  <tbody>\n",
       "    <tr>\n",
       "      <th>0</th>\n",
       "      <td>135.689107</td>\n",
       "      <td>32.494632</td>\n",
       "      <td>23.87882</td>\n",
       "      <td>22.27530</td>\n",
       "      <td>20.39501</td>\n",
       "      <td>18.79371</td>\n",
       "      <td>0</td>\n",
       "      <td>0.634794</td>\n",
       "      <td>56354</td>\n",
       "    </tr>\n",
       "    <tr>\n",
       "      <th>1</th>\n",
       "      <td>144.826101</td>\n",
       "      <td>31.274185</td>\n",
       "      <td>24.77759</td>\n",
       "      <td>22.83188</td>\n",
       "      <td>22.58444</td>\n",
       "      <td>21.61427</td>\n",
       "      <td>0</td>\n",
       "      <td>0.779136</td>\n",
       "      <td>58158</td>\n",
       "    </tr>\n",
       "    <tr>\n",
       "      <th>2</th>\n",
       "      <td>142.188790</td>\n",
       "      <td>35.582444</td>\n",
       "      <td>25.26307</td>\n",
       "      <td>22.66389</td>\n",
       "      <td>20.60976</td>\n",
       "      <td>18.94827</td>\n",
       "      <td>0</td>\n",
       "      <td>0.644195</td>\n",
       "      <td>55592</td>\n",
       "    </tr>\n",
       "    <tr>\n",
       "      <th>3</th>\n",
       "      <td>338.741038</td>\n",
       "      <td>-0.402828</td>\n",
       "      <td>22.13682</td>\n",
       "      <td>23.77656</td>\n",
       "      <td>21.61162</td>\n",
       "      <td>19.25010</td>\n",
       "      <td>0</td>\n",
       "      <td>0.932346</td>\n",
       "      <td>58039</td>\n",
       "    </tr>\n",
       "    <tr>\n",
       "      <th>4</th>\n",
       "      <td>345.282593</td>\n",
       "      <td>21.183866</td>\n",
       "      <td>19.43718</td>\n",
       "      <td>17.58028</td>\n",
       "      <td>16.49747</td>\n",
       "      <td>15.54461</td>\n",
       "      <td>0</td>\n",
       "      <td>0.116123</td>\n",
       "      <td>56187</td>\n",
       "    </tr>\n",
       "    <tr>\n",
       "      <th>...</th>\n",
       "      <td>...</td>\n",
       "      <td>...</td>\n",
       "      <td>...</td>\n",
       "      <td>...</td>\n",
       "      <td>...</td>\n",
       "      <td>...</td>\n",
       "      <td>...</td>\n",
       "      <td>...</td>\n",
       "      <td>...</td>\n",
       "    </tr>\n",
       "    <tr>\n",
       "      <th>99995</th>\n",
       "      <td>39.620709</td>\n",
       "      <td>-2.594074</td>\n",
       "      <td>22.16759</td>\n",
       "      <td>22.97586</td>\n",
       "      <td>21.90404</td>\n",
       "      <td>20.73569</td>\n",
       "      <td>0</td>\n",
       "      <td>0.000000</td>\n",
       "      <td>57749</td>\n",
       "    </tr>\n",
       "    <tr>\n",
       "      <th>99996</th>\n",
       "      <td>29.493819</td>\n",
       "      <td>19.798874</td>\n",
       "      <td>22.69118</td>\n",
       "      <td>22.38628</td>\n",
       "      <td>20.45003</td>\n",
       "      <td>19.41526</td>\n",
       "      <td>0</td>\n",
       "      <td>0.404895</td>\n",
       "      <td>56934</td>\n",
       "    </tr>\n",
       "    <tr>\n",
       "      <th>99997</th>\n",
       "      <td>224.587407</td>\n",
       "      <td>15.700707</td>\n",
       "      <td>21.16916</td>\n",
       "      <td>19.26997</td>\n",
       "      <td>18.20428</td>\n",
       "      <td>17.35221</td>\n",
       "      <td>0</td>\n",
       "      <td>0.143366</td>\n",
       "      <td>54535</td>\n",
       "    </tr>\n",
       "    <tr>\n",
       "      <th>99998</th>\n",
       "      <td>212.268621</td>\n",
       "      <td>46.660365</td>\n",
       "      <td>25.35039</td>\n",
       "      <td>21.63757</td>\n",
       "      <td>19.91386</td>\n",
       "      <td>18.62482</td>\n",
       "      <td>0</td>\n",
       "      <td>0.455040</td>\n",
       "      <td>56368</td>\n",
       "    </tr>\n",
       "    <tr>\n",
       "      <th>99999</th>\n",
       "      <td>196.896053</td>\n",
       "      <td>49.464643</td>\n",
       "      <td>22.62171</td>\n",
       "      <td>21.79745</td>\n",
       "      <td>20.60115</td>\n",
       "      <td>19.28075</td>\n",
       "      <td>0</td>\n",
       "      <td>0.542944</td>\n",
       "      <td>57104</td>\n",
       "    </tr>\n",
       "  </tbody>\n",
       "</table>\n",
       "<p>100000 rows × 9 columns</p>\n",
       "</div>"
      ],
      "text/plain": [
       "            alpha      delta  UltraVioletFilter  GreenFilter  RedFilter  \\\n",
       "0      135.689107  32.494632           23.87882     22.27530   20.39501   \n",
       "1      144.826101  31.274185           24.77759     22.83188   22.58444   \n",
       "2      142.188790  35.582444           25.26307     22.66389   20.60976   \n",
       "3      338.741038  -0.402828           22.13682     23.77656   21.61162   \n",
       "4      345.282593  21.183866           19.43718     17.58028   16.49747   \n",
       "...           ...        ...                ...          ...        ...   \n",
       "99995   39.620709  -2.594074           22.16759     22.97586   21.90404   \n",
       "99996   29.493819  19.798874           22.69118     22.38628   20.45003   \n",
       "99997  224.587407  15.700707           21.16916     19.26997   18.20428   \n",
       "99998  212.268621  46.660365           25.35039     21.63757   19.91386   \n",
       "99999  196.896053  49.464643           22.62171     21.79745   20.60115   \n",
       "\n",
       "       InfraFilter  class  redshift    MJD  \n",
       "0         18.79371      0  0.634794  56354  \n",
       "1         21.61427      0  0.779136  58158  \n",
       "2         18.94827      0  0.644195  55592  \n",
       "3         19.25010      0  0.932346  58039  \n",
       "4         15.54461      0  0.116123  56187  \n",
       "...            ...    ...       ...    ...  \n",
       "99995     20.73569      0  0.000000  57749  \n",
       "99996     19.41526      0  0.404895  56934  \n",
       "99997     17.35221      0  0.143366  54535  \n",
       "99998     18.62482      0  0.455040  56368  \n",
       "99999     19.28075      0  0.542944  57104  \n",
       "\n",
       "[100000 rows x 9 columns]"
      ]
     },
     "execution_count": 43,
     "metadata": {},
     "output_type": "execute_result"
    }
   ],
   "source": [
    "kn"
   ]
  },
  {
   "cell_type": "code",
   "execution_count": 44,
   "metadata": {},
   "outputs": [],
   "source": [
    "# Splitting the dataset train and testing\n",
    "from sklearn.model_selection import train_test_split\n"
   ]
  },
  {
   "cell_type": "code",
   "execution_count": 45,
   "metadata": {},
   "outputs": [
    {
     "name": "stdout",
     "output_type": "stream",
     "text": [
      "Number of Training Dataset :  80000\n",
      "Number of Test Dataset     :  20000\n",
      "Total Number of Dataset Observations   :  100000\n"
     ]
    }
   ],
   "source": [
    "x_train, x_test, y_train, y_test = train_test_split(X, Y, test_size=0.20, random_state=1, stratify=Y)\n",
    "print(\"Number of Training Dataset : \", len(x_train))\n",
    "print(\"Number of Test Dataset     : \", len(x_test))\n",
    "print(\"Total Number of Dataset Observations   : \", len(x_train)+len(x_test))"
   ]
  },
  {
   "cell_type": "markdown",
   "metadata": {},
   "source": [
    "# 6. MODEL TRAINING"
   ]
  },
  {
   "cell_type": "markdown",
   "metadata": {},
   "source": [
    "# a) Naive Bayes"
   ]
  },
  {
   "cell_type": "markdown",
   "metadata": {},
   "source": [
    "Implementing Naive Bayes Algorithm"
   ]
  },
  {
   "cell_type": "code",
   "execution_count": 46,
   "metadata": {},
   "outputs": [],
   "source": [
    "from sklearn.naive_bayes import GaussianNB\n",
    "from sklearn.metrics import confusion_matrix, classification_report, accuracy_score,plot_confusion_matrix"
   ]
  },
  {
   "cell_type": "markdown",
   "metadata": {},
   "source": [
    "Training"
   ]
  },
  {
   "cell_type": "code",
   "execution_count": 47,
   "metadata": {},
   "outputs": [],
   "source": [
    "gnb = GaussianNB()\n",
    "gnb.fit(x_train,y_train)\n",
    "predictGnb = gnb.predict(x_test)"
   ]
  },
  {
   "cell_type": "markdown",
   "metadata": {},
   "source": [
    "Finding the accuracy of Naive bayes perceptron"
   ]
  },
  {
   "cell_type": "code",
   "execution_count": 48,
   "metadata": {},
   "outputs": [
    {
     "name": "stdout",
     "output_type": "stream",
     "text": [
      "Accuracy of Gaussian Naive Bayes Model:\n",
      " 72.225\n",
      "\n",
      "\n",
      " Classification Report \n",
      "\n",
      ":               precision    recall  f1-score   support\n",
      "\n",
      "           0       0.71      0.93      0.81     11889\n",
      "           1       0.76      0.87      0.81      3792\n",
      "           2       0.56      0.02      0.04      4319\n",
      "\n",
      "    accuracy                           0.72     20000\n",
      "   macro avg       0.68      0.61      0.55     20000\n",
      "weighted avg       0.69      0.72      0.64     20000\n",
      "\n",
      "Confusion Matrix:\n",
      "\n",
      "[[11039   776    74]\n",
      " [  482  3309     1]\n",
      " [ 3966   256    97]]\n"
     ]
    }
   ],
   "source": [
    "#Accuracy\n",
    "accuracy = accuracy_score(y_test, predictGnb)\n",
    "print(\"Accuracy of Gaussian Naive Bayes Model:\\n\", accuracy *100)\n",
    "\n",
    "#Classification Report\n",
    "cr = classification_report(y_test, predictGnb)\n",
    "print(\"\\n\\n Classification Report \\n\\n:\", cr)\n",
    "\n",
    "#Confusion Matrix\n",
    "cm = confusion_matrix(y_test, predictGnb)\n",
    "print(\"Confusion Matrix:\")\n",
    "print(\"\")\n",
    "print(cm)\n",
    "\n"
   ]
  },
  {
   "cell_type": "markdown",
   "metadata": {},
   "source": [
    "# b) Decision Tree"
   ]
  },
  {
   "cell_type": "markdown",
   "metadata": {},
   "source": [
    "Implementing Decision Tree Classifier Algorithm"
   ]
  },
  {
   "cell_type": "code",
   "execution_count": 49,
   "metadata": {},
   "outputs": [],
   "source": [
    "from sklearn.tree import DecisionTreeClassifier\n",
    "from sklearn.metrics import confusion_matrix, classification_report, accuracy_score,plot_confusion_matrix"
   ]
  },
  {
   "cell_type": "markdown",
   "metadata": {},
   "source": [
    "Training"
   ]
  },
  {
   "cell_type": "code",
   "execution_count": 50,
   "metadata": {},
   "outputs": [],
   "source": [
    "DTC= DecisionTreeClassifier()\n",
    "DTC.fit(x_train,y_train)\n",
    "predictDTC = DTC.predict(x_test)"
   ]
  },
  {
   "cell_type": "code",
   "execution_count": 51,
   "metadata": {},
   "outputs": [
    {
     "name": "stdout",
     "output_type": "stream",
     "text": [
      "Accuracy of Decision Tree Classifier:\n",
      " 96.54\n",
      "\n",
      "\n",
      " Classification Report :               precision    recall  f1-score   support\n",
      "\n",
      "           0       0.97      0.97      0.97     11889\n",
      "           1       0.91      0.92      0.91      3792\n",
      "           2       1.00      0.99      1.00      4319\n",
      "\n",
      "    accuracy                           0.97     20000\n",
      "   macro avg       0.96      0.96      0.96     20000\n",
      "weighted avg       0.97      0.97      0.97     20000\n",
      "\n",
      "\n",
      " Confusion matrix of Decision Tree Classifier\n",
      "\n",
      "[[11537   336    16]\n",
      " [  317  3474     1]\n",
      " [   22     0  4297]]\n"
     ]
    }
   ],
   "source": [
    "#Accuracy Prediction\n",
    "accuracy = accuracy_score(y_test, predictDTC)\n",
    "print(\"Accuracy of Decision Tree Classifier:\\n\", accuracy *100)\n",
    "\n",
    "#Classification Report\n",
    "cr = classification_report(y_test, predictDTC)\n",
    "print(\"\\n\\n Classification Report :\", cr)\n",
    "\n",
    "#Confusion Matrix\n",
    "cm = confusion_matrix(y_test, predictDTC)\n",
    "print(\"\\n Confusion matrix of Decision Tree Classifier\")\n",
    "print(\"\")\n",
    "print(cm)\n"
   ]
  },
  {
   "cell_type": "markdown",
   "metadata": {},
   "source": [
    "# c) Random Forest"
   ]
  },
  {
   "cell_type": "markdown",
   "metadata": {},
   "source": [
    "Implementing Random Forest Classifier"
   ]
  },
  {
   "cell_type": "code",
   "execution_count": 52,
   "metadata": {},
   "outputs": [],
   "source": [
    "from sklearn.ensemble import RandomForestClassifier\n",
    "from sklearn.metrics import confusion_matrix, classification_report, accuracy_score,plot_confusion_matrix"
   ]
  },
  {
   "cell_type": "markdown",
   "metadata": {},
   "source": [
    "Training"
   ]
  },
  {
   "cell_type": "code",
   "execution_count": 53,
   "metadata": {},
   "outputs": [],
   "source": [
    "RFC= RandomForestClassifier()\n",
    "RFC.fit(x_train,y_train)\n",
    "predictRFC = RFC.predict(x_test)"
   ]
  },
  {
   "cell_type": "code",
   "execution_count": 54,
   "metadata": {},
   "outputs": [
    {
     "name": "stdout",
     "output_type": "stream",
     "text": [
      "Accuracy of Random Forest Classifier:   \n",
      " 97.78999999999999\n",
      "\n",
      " Confusion matrix of Random Forest Classifier\n",
      "\n",
      "[[11737   124    28]\n",
      " [  283  3508     1]\n",
      " [    6     0  4313]]\n",
      "\n",
      " Classification Report: \n",
      "\n",
      "               precision    recall  f1-score   support\n",
      "\n",
      "           0       0.98      0.99      0.98     11889\n",
      "           1       0.97      0.93      0.95      3792\n",
      "           2       0.99      1.00      1.00      4319\n",
      "\n",
      "    accuracy                           0.98     20000\n",
      "   macro avg       0.98      0.97      0.97     20000\n",
      "weighted avg       0.98      0.98      0.98     20000\n",
      "\n"
     ]
    }
   ],
   "source": [
    "#Finding the Accuracy\n",
    "accuracy = accuracy_score(y_test, predictRFC)\n",
    "print(\"Accuracy of Random Forest Classifier:   \\n\", accuracy *100)\n",
    "\n",
    "#Confusion Matrix\n",
    "cm = confusion_matrix(y_test, predictRFC)\n",
    "print(\"\\n Confusion matrix of Random Forest Classifier\")\n",
    "print(\"\")\n",
    "print(cm)\n",
    "\n",
    "#Classification Report\n",
    "cr = classification_report(y_test, predictRFC)\n",
    "print(\"\\n Classification Report: \\n\\n\", cr)"
   ]
  },
  {
   "cell_type": "code",
   "execution_count": 55,
   "metadata": {},
   "outputs": [
    {
     "name": "stdout",
     "output_type": "stream",
     "text": [
      "Accuracy of Gaussian Naive Bayes Model:\n",
      " 72.225\n",
      "Accuracy of Decision Tree Classifier:\n",
      " 96.54\n",
      "Accuracy of Random Forest Classifier:   \n",
      " 97.78999999999999\n"
     ]
    }
   ],
   "source": [
    "# Naive Bayes\n",
    "accuracy = accuracy_score(y_test, predictGnb)\n",
    "print(\"Accuracy of Gaussian Naive Bayes Model:\\n\", accuracy *100)\n",
    "\n",
    "\n",
    "#Decision Tree Classifier\n",
    "accuracy = accuracy_score(y_test, predictDTC)\n",
    "print(\"Accuracy of Decision Tree Classifier:\\n\", accuracy *100)\n",
    "\n",
    "#Random Forest Classifier\n",
    "accuracy = accuracy_score(y_test, predictRFC)\n",
    "print(\"Accuracy of Random Forest Classifier:   \\n\", accuracy *100)"
   ]
  },
  {
   "cell_type": "markdown",
   "metadata": {},
   "source": [
    "# 8. INFERENCE"
   ]
  },
  {
   "cell_type": "markdown",
   "metadata": {},
   "source": [
    "Random Foresnt has the highest accuracy of 97.80% followed by Decision Tree with a near margin of 96.49% possible accuracy followed by Naive Bayes with 72.225% accuracy."
   ]
  }
 ],
 "metadata": {
  "kernelspec": {
   "display_name": "Python 3",
   "language": "python",
   "name": "python3"
  },
  "language_info": {
   "codemirror_mode": {
    "name": "ipython",
    "version": 3
   },
   "file_extension": ".py",
   "mimetype": "text/x-python",
   "name": "python",
   "nbconvert_exporter": "python",
   "pygments_lexer": "ipython3",
   "version": "3.8.5"
  }
 },
 "nbformat": 4,
 "nbformat_minor": 4
}
